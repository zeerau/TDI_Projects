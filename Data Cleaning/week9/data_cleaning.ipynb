{
 "cells": [
  {
   "cell_type": "code",
   "execution_count": 152,
   "metadata": {},
   "outputs": [
    {
     "data": {
      "text/html": [
       "<div>\n",
       "<style scoped>\n",
       "    .dataframe tbody tr th:only-of-type {\n",
       "        vertical-align: middle;\n",
       "    }\n",
       "\n",
       "    .dataframe tbody tr th {\n",
       "        vertical-align: top;\n",
       "    }\n",
       "\n",
       "    .dataframe thead th {\n",
       "        text-align: right;\n",
       "    }\n",
       "</style>\n",
       "<table border=\"1\" class=\"dataframe\">\n",
       "  <thead>\n",
       "    <tr style=\"text-align: right;\">\n",
       "      <th></th>\n",
       "      <th>name</th>\n",
       "      <th>region</th>\n",
       "      <th>variety</th>\n",
       "      <th>rating</th>\n",
       "      <th>notes</th>\n",
       "    </tr>\n",
       "  </thead>\n",
       "  <tbody>\n",
       "    <tr>\n",
       "      <th>0</th>\n",
       "      <td>1000 Stories Bourbon Barrel Aged Batch Blue Ca...</td>\n",
       "      <td>Mendocino, California</td>\n",
       "      <td>Red Wine</td>\n",
       "      <td>91</td>\n",
       "      <td>This is a very special, limited release of 100...</td>\n",
       "    </tr>\n",
       "    <tr>\n",
       "      <th>1</th>\n",
       "      <td>1000 Stories Bourbon Barrel Aged Gold Rush Red...</td>\n",
       "      <td>California</td>\n",
       "      <td>Red Wine</td>\n",
       "      <td>89</td>\n",
       "      <td>The California Gold Rush was a period of coura...</td>\n",
       "    </tr>\n",
       "    <tr>\n",
       "      <th>2</th>\n",
       "      <td>1000 Stories Bourbon Barrel Aged Gold Rush Red...</td>\n",
       "      <td>California</td>\n",
       "      <td>Red Wine</td>\n",
       "      <td>90</td>\n",
       "      <td>The California Gold Rush was a period of coura...</td>\n",
       "    </tr>\n",
       "    <tr>\n",
       "      <th>3</th>\n",
       "      <td>1000 Stories Bourbon Barrel Aged Zinfandel 2013</td>\n",
       "      <td>North Coast, California</td>\n",
       "      <td>Red Wine</td>\n",
       "      <td>91</td>\n",
       "      <td>The wine has a deep, rich purple color. An int...</td>\n",
       "    </tr>\n",
       "  </tbody>\n",
       "</table>\n",
       "</div>"
      ],
      "text/plain": [
       "                                                name                   region  \\\n",
       "0  1000 Stories Bourbon Barrel Aged Batch Blue Ca...    Mendocino, California   \n",
       "1  1000 Stories Bourbon Barrel Aged Gold Rush Red...               California   \n",
       "2  1000 Stories Bourbon Barrel Aged Gold Rush Red...               California   \n",
       "3    1000 Stories Bourbon Barrel Aged Zinfandel 2013  North Coast, California   \n",
       "\n",
       "    variety  rating                                              notes  \n",
       "0  Red Wine      91  This is a very special, limited release of 100...  \n",
       "1  Red Wine      89  The California Gold Rush was a period of coura...  \n",
       "2  Red Wine      90  The California Gold Rush was a period of coura...  \n",
       "3  Red Wine      91  The wine has a deep, rich purple color. An int...  "
      ]
     },
     "execution_count": 152,
     "metadata": {},
     "output_type": "execute_result"
    }
   ],
   "source": [
    "import pandas as pd\n",
    "import numpy as np\n",
    "\n",
    "df = pd.read_csv(r'C:\\Users\\DELL\\TDI_Projects\\Data Cleaning\\week9\\wine-raitngs.csv')\n",
    "df.head(4)"
   ]
  },
  {
   "cell_type": "code",
   "execution_count": 153,
   "metadata": {},
   "outputs": [
    {
     "name": "stdout",
     "output_type": "stream",
     "text": [
      "<class 'pandas.core.frame.DataFrame'>\n",
      "RangeIndex: 32980 entries, 0 to 32979\n",
      "Data columns (total 5 columns):\n",
      " #   Column   Non-Null Count  Dtype \n",
      "---  ------   --------------  ----- \n",
      " 0   name     32980 non-null  object\n",
      " 1   region   32977 non-null  object\n",
      " 2   variety  32621 non-null  object\n",
      " 3   rating   32980 non-null  int64 \n",
      " 4   notes    32980 non-null  object\n",
      "dtypes: int64(1), object(4)\n",
      "memory usage: 1.3+ MB\n",
      "None\n",
      "(32980, 5)\n"
     ]
    }
   ],
   "source": [
    "print(df.info())\n",
    "print(df.shape)"
   ]
  },
  {
   "cell_type": "code",
   "execution_count": 154,
   "metadata": {},
   "outputs": [
    {
     "name": "stdout",
     "output_type": "stream",
     "text": [
      "name         0\n",
      "region       3\n",
      "variety    359\n",
      "rating       0\n",
      "notes        0\n",
      "dtype: int64\n"
     ]
    },
    {
     "data": {
      "text/plain": [
       "name       0\n",
       "region     0\n",
       "variety    0\n",
       "rating     0\n",
       "notes      0\n",
       "dtype: int64"
      ]
     },
     "execution_count": 154,
     "metadata": {},
     "output_type": "execute_result"
    }
   ],
   "source": [
    "# 1.Identify and remove any duplicate rows and missing values from the global wine quality dataset. \n",
    "# Store the cleaned dataset in a new dataframe named non_dm_data.\n",
    "\n",
    "print(df.isna().sum())\n",
    "df.drop_duplicates()\n",
    "df.dropna(axis=0,inplace=True)\n",
    "non_dm_data = df\n",
    "non_dm_data.isna().sum()\n"
   ]
  },
  {
   "cell_type": "code",
   "execution_count": 155,
   "metadata": {},
   "outputs": [
    {
     "data": {
      "text/plain": [
       "region\n",
       "Napa Valley, California                                    2938\n",
       "Sonoma County, California                                  1175\n",
       "Columbia Valley, Washington                                1089\n",
       "Willamette Valley, Oregon                                   956\n",
       "Chateauneuf-du-Pape, Rhone, France                          815\n",
       "                                                           ... \n",
       "Elgin, South Africa                                           1\n",
       "Banyuls, Roussillon, South of France, France                  1\n",
       "Redwood Valley, Mendocino, California                         1\n",
       "Nemea, Greece                                                 1\n",
       "Terrasses du Larzac, Languedoc, South of France, France       1\n",
       "Name: count, Length: 402, dtype: int64"
      ]
     },
     "execution_count": 155,
     "metadata": {},
     "output_type": "execute_result"
    }
   ],
   "source": [
    "non_dm_data['region'].value_counts()"
   ]
  },
  {
   "cell_type": "code",
   "execution_count": 156,
   "metadata": {},
   "outputs": [],
   "source": [
    "non_dm_data['region']=non_dm_data['region'].str.replace('California','United State')\n",
    "non_dm_data['region']=non_dm_data['region'].str.replace('Washington','United State')\n",
    "non_dm_data['region']=non_dm_data['region'].str.replace('Oregon','United State')\n",
    "non_dm_data['region']=non_dm_data['region'].str.replace('Other U.S.','United State')\n",
    "non_dm_data['region']=non_dm_data['region'].str.replace('Argentina','South America')\n",
    "non_dm_data['region']=non_dm_data['region'].str.replace('Chile','South America')\n",
    "non_dm_data['region']=non_dm_data['region'].str.replace('Uruguay','South America')"
   ]
  },
  {
   "cell_type": "code",
   "execution_count": 157,
   "metadata": {},
   "outputs": [
    {
     "data": {
      "text/plain": [
       "region\n",
       " United State     12753\n",
       " France            7841\n",
       " Italy             3827\n",
       " Australia         1428\n",
       " Spain             1211\n",
       "South America      1077\n",
       "United State        727\n",
       " South America      676\n",
       "Spain               578\n",
       " New Zealand        472\n",
       "South Africa        362\n",
       " Germany            309\n",
       "Italy               264\n",
       "Australia           235\n",
       "Portugal            155\n",
       "New Zealand         113\n",
       " Portugal            96\n",
       " South Africa        94\n",
       "Greece               84\n",
       "France               76\n",
       " Austria             70\n",
       " Greece              41\n",
       "Austria              38\n",
       "Israel               30\n",
       "Germany              15\n",
       "England              14\n",
       "Canada               12\n",
       "Lebanon               8\n",
       "Hungary               7\n",
       "Mexico                2\n",
       "Turkey                2\n",
       "China                 1\n",
       "Switzerland           1\n",
       "Slovenia              1\n",
       "Name: count, dtype: int64"
      ]
     },
     "execution_count": 157,
     "metadata": {},
     "output_type": "execute_result"
    }
   ],
   "source": [
    "non_dm_data['region'] = non_dm_data['region'].str.strip().str.split(',').str.get(-1)\n",
    "\n",
    "non_dm_data['region'].value_counts()"
   ]
  },
  {
   "cell_type": "code",
   "execution_count": 158,
   "metadata": {},
   "outputs": [
    {
     "data": {
      "text/plain": [
       "array([' United State', 'United State', ' Spain', ' South America',\n",
       "       'South America', 'Australia', ' Australia', ' New Zealand',\n",
       "       'Spain', ' Germany', 'Italy', ' France', 'Portugal', ' Italy',\n",
       "       'Greece', 'South Africa', 'New Zealand', ' Austria', 'Austria',\n",
       "       ' Portugal', ' South Africa', 'China', ' Greece', 'Israel',\n",
       "       'Germany', 'England', 'France', 'Mexico', 'Lebanon', 'Hungary',\n",
       "       'Switzerland', 'Canada', 'Slovenia', 'Turkey'], dtype=object)"
      ]
     },
     "execution_count": 158,
     "metadata": {},
     "output_type": "execute_result"
    }
   ],
   "source": [
    "non_dm_data['region'].unique()"
   ]
  },
  {
   "cell_type": "code",
   "execution_count": 159,
   "metadata": {},
   "outputs": [
    {
     "data": {
      "text/plain": [
       "variety\n",
       "Red Wine                 70.0\n",
       "White Wine               20.0\n",
       "Sparkling & Champagne     0.0\n",
       "Pink and Rosé             0.0\n",
       "Collectible               0.0\n",
       "Green Wine                0.0\n",
       "Boutique                  0.0\n",
       "Screw Cap                 0.0\n",
       "Name: proportion, dtype: float64"
      ]
     },
     "execution_count": 159,
     "metadata": {},
     "output_type": "execute_result"
    }
   ],
   "source": [
    "# 3.Create a table showing the percentage distribution of wine varieties, rounded to one decimal place.\n",
    "\n",
    "non_dm_data['variety'].value_counts(normalize= True).round(1) * 100"
   ]
  },
  {
   "cell_type": "markdown",
   "metadata": {},
   "source": [
    "4.Based on wine ratings, classify the wines into the following categories:\n",
    "\n",
    " 'Good' for ratings between 85-89\n",
    "\n",
    "'Outstanding' for ratings between 90-94\n",
    "\n",
    "'Exceptional' for ratings between 95-100\n",
    "\n",
    "Create a new column named \"wine_quality\" to store these categories."
   ]
  },
  {
   "cell_type": "code",
   "execution_count": 160,
   "metadata": {},
   "outputs": [],
   "source": [
    "conditions = [\n",
    "    (non_dm_data['rating']>= 85) &(non_dm_data['rating'] <=89),\n",
    "    (non_dm_data['rating']>= 90) &(non_dm_data['rating'] <=94),\n",
    "    (non_dm_data['rating']>= 95) &(non_dm_data['rating'] <=100)\n",
    "]\n",
    "\n",
    "values = ['Good','Outstanding','Exceptional']\n",
    "\n",
    "non_dm_data['wine_quality'] = np.select(conditions,values)"
   ]
  },
  {
   "cell_type": "code",
   "execution_count": 161,
   "metadata": {},
   "outputs": [
    {
     "data": {
      "text/html": [
       "<div>\n",
       "<style scoped>\n",
       "    .dataframe tbody tr th:only-of-type {\n",
       "        vertical-align: middle;\n",
       "    }\n",
       "\n",
       "    .dataframe tbody tr th {\n",
       "        vertical-align: top;\n",
       "    }\n",
       "\n",
       "    .dataframe thead th {\n",
       "        text-align: right;\n",
       "    }\n",
       "</style>\n",
       "<table border=\"1\" class=\"dataframe\">\n",
       "  <thead>\n",
       "    <tr style=\"text-align: right;\">\n",
       "      <th></th>\n",
       "      <th>name</th>\n",
       "      <th>region</th>\n",
       "      <th>variety</th>\n",
       "      <th>rating</th>\n",
       "      <th>notes</th>\n",
       "      <th>wine_quality</th>\n",
       "    </tr>\n",
       "  </thead>\n",
       "  <tbody>\n",
       "    <tr>\n",
       "      <th>0</th>\n",
       "      <td>1000 Stories Bourbon Barrel Aged Batch Blue Ca...</td>\n",
       "      <td>United State</td>\n",
       "      <td>Red Wine</td>\n",
       "      <td>91</td>\n",
       "      <td>This is a very special, limited release of 100...</td>\n",
       "      <td>Outstanding</td>\n",
       "    </tr>\n",
       "    <tr>\n",
       "      <th>1</th>\n",
       "      <td>1000 Stories Bourbon Barrel Aged Gold Rush Red...</td>\n",
       "      <td>United State</td>\n",
       "      <td>Red Wine</td>\n",
       "      <td>89</td>\n",
       "      <td>The California Gold Rush was a period of coura...</td>\n",
       "      <td>Good</td>\n",
       "    </tr>\n",
       "    <tr>\n",
       "      <th>2</th>\n",
       "      <td>1000 Stories Bourbon Barrel Aged Gold Rush Red...</td>\n",
       "      <td>United State</td>\n",
       "      <td>Red Wine</td>\n",
       "      <td>90</td>\n",
       "      <td>The California Gold Rush was a period of coura...</td>\n",
       "      <td>Outstanding</td>\n",
       "    </tr>\n",
       "  </tbody>\n",
       "</table>\n",
       "</div>"
      ],
      "text/plain": [
       "                                                name         region   variety  \\\n",
       "0  1000 Stories Bourbon Barrel Aged Batch Blue Ca...   United State  Red Wine   \n",
       "1  1000 Stories Bourbon Barrel Aged Gold Rush Red...   United State  Red Wine   \n",
       "2  1000 Stories Bourbon Barrel Aged Gold Rush Red...   United State  Red Wine   \n",
       "\n",
       "   rating                                              notes wine_quality  \n",
       "0      91  This is a very special, limited release of 100...  Outstanding  \n",
       "1      89  The California Gold Rush was a period of coura...         Good  \n",
       "2      90  The California Gold Rush was a period of coura...  Outstanding  "
      ]
     },
     "execution_count": 161,
     "metadata": {},
     "output_type": "execute_result"
    }
   ],
   "source": [
    "non_dm_data.head(3)"
   ]
  },
  {
   "cell_type": "code",
   "execution_count": null,
   "metadata": {},
   "outputs": [],
   "source": []
  },
  {
   "cell_type": "code",
   "execution_count": 162,
   "metadata": {},
   "outputs": [],
   "source": [
    "# 1.Convert all text to lowercase for uniformity.\n",
    "\n",
    "non_dm_data['name']= non_dm_data['name'].str.lower()\n",
    "non_dm_data['notes']= non_dm_data['notes'].str.lower()\n"
   ]
  },
  {
   "cell_type": "code",
   "execution_count": 163,
   "metadata": {},
   "outputs": [
    {
     "data": {
      "text/html": [
       "<div>\n",
       "<style scoped>\n",
       "    .dataframe tbody tr th:only-of-type {\n",
       "        vertical-align: middle;\n",
       "    }\n",
       "\n",
       "    .dataframe tbody tr th {\n",
       "        vertical-align: top;\n",
       "    }\n",
       "\n",
       "    .dataframe thead th {\n",
       "        text-align: right;\n",
       "    }\n",
       "</style>\n",
       "<table border=\"1\" class=\"dataframe\">\n",
       "  <thead>\n",
       "    <tr style=\"text-align: right;\">\n",
       "      <th></th>\n",
       "      <th>name</th>\n",
       "      <th>region</th>\n",
       "      <th>variety</th>\n",
       "      <th>rating</th>\n",
       "      <th>notes</th>\n",
       "      <th>wine_quality</th>\n",
       "    </tr>\n",
       "  </thead>\n",
       "  <tbody>\n",
       "    <tr>\n",
       "      <th>0</th>\n",
       "      <td>1000 stories bourbon barrel aged batch blue ca...</td>\n",
       "      <td>United State</td>\n",
       "      <td>Red Wine</td>\n",
       "      <td>91</td>\n",
       "      <td>this is a very special, limited release of 100...</td>\n",
       "      <td>Outstanding</td>\n",
       "    </tr>\n",
       "    <tr>\n",
       "      <th>1</th>\n",
       "      <td>1000 stories bourbon barrel aged gold rush red...</td>\n",
       "      <td>United State</td>\n",
       "      <td>Red Wine</td>\n",
       "      <td>89</td>\n",
       "      <td>the california gold rush was a period of coura...</td>\n",
       "      <td>Good</td>\n",
       "    </tr>\n",
       "    <tr>\n",
       "      <th>2</th>\n",
       "      <td>1000 stories bourbon barrel aged gold rush red...</td>\n",
       "      <td>United State</td>\n",
       "      <td>Red Wine</td>\n",
       "      <td>90</td>\n",
       "      <td>the california gold rush was a period of coura...</td>\n",
       "      <td>Outstanding</td>\n",
       "    </tr>\n",
       "  </tbody>\n",
       "</table>\n",
       "</div>"
      ],
      "text/plain": [
       "                                                name         region   variety  \\\n",
       "0  1000 stories bourbon barrel aged batch blue ca...   United State  Red Wine   \n",
       "1  1000 stories bourbon barrel aged gold rush red...   United State  Red Wine   \n",
       "2  1000 stories bourbon barrel aged gold rush red...   United State  Red Wine   \n",
       "\n",
       "   rating                                              notes wine_quality  \n",
       "0      91  this is a very special, limited release of 100...  Outstanding  \n",
       "1      89  the california gold rush was a period of coura...         Good  \n",
       "2      90  the california gold rush was a period of coura...  Outstanding  "
      ]
     },
     "execution_count": 163,
     "metadata": {},
     "output_type": "execute_result"
    }
   ],
   "source": [
    "non_dm_data.head(3)"
   ]
  },
  {
   "cell_type": "code",
   "execution_count": 164,
   "metadata": {},
   "outputs": [
    {
     "data": {
      "text/plain": [
       "name            object\n",
       "region          object\n",
       "variety         object\n",
       "rating           int64\n",
       "notes           object\n",
       "wine_quality    object\n",
       "dtype: object"
      ]
     },
     "execution_count": 164,
     "metadata": {},
     "output_type": "execute_result"
    }
   ],
   "source": [
    "non_dm_data.dtypes"
   ]
  },
  {
   "cell_type": "code",
   "execution_count": 165,
   "metadata": {},
   "outputs": [
    {
     "data": {
      "text/plain": [
       "0         stories bourbon barrel aged batch blue carignan \n",
       "1               stories bourbon barrel aged gold rush red \n",
       "2               stories bourbon barrel aged gold rush red \n",
       "3                   stories bourbon barrel aged zinfandel \n",
       "4                   stories bourbon barrel aged zinfandel \n",
       "                               ...                        \n",
       "32975                                    byron chardonnay \n",
       "32976                               booker vineyard white \n",
       "32977    keenan napa valley cabernet sauvignon (ml half...\n",
       "32978                               hearst ranch randolph \n",
       "32979     concha y toro marques de casa concha chardonnay \n",
       "Name: name, Length: 32620, dtype: object"
      ]
     },
     "execution_count": 165,
     "metadata": {},
     "output_type": "execute_result"
    }
   ],
   "source": [
    "# Remove numbers that do not contribute to meaningful analysis.\n",
    "import re\n",
    "non_dm_data['name'] = non_dm_data['name'].str.replace(r'\\d+', '', regex=True)\n",
    "\n",
    "non_dm_data['name']"
   ]
  },
  {
   "cell_type": "code",
   "execution_count": 166,
   "metadata": {},
   "outputs": [],
   "source": [
    "# 3.Eliminate punctuation marks to simplify the text.\n",
    "non_dm_data['name'] = non_dm_data['name'].str.replace(r'[^\\w\\s]', '', regex=True)\n",
    "non_dm_data['notes'] = non_dm_data['notes'].str.replace(r'[^\\w\\s]', '', regex=True)"
   ]
  },
  {
   "cell_type": "code",
   "execution_count": 167,
   "metadata": {},
   "outputs": [
    {
     "data": {
      "text/plain": [
       "0        this is a very special limited release of 1000...\n",
       "1        the california gold rush was a period of coura...\n",
       "2        the california gold rush was a period of coura...\n",
       "3        the wine has a deep rich purple color an inten...\n",
       "4        batch 004 is the first release of the 2014 vin...\n",
       "                               ...                        \n",
       "32975    staying true to the consistent nature of chard...\n",
       "32976    the wine starts with honeysuckle and dried pea...\n",
       "32977    the 2010 cabernet sauvignon is composed primar...\n",
       "32978    the 2015 randolph is a stunning wine as versat...\n",
       "32979    light yellow in the glass combining richness w...\n",
       "Name: notes, Length: 32620, dtype: object"
      ]
     },
     "execution_count": 167,
     "metadata": {},
     "output_type": "execute_result"
    }
   ],
   "source": [
    "non_dm_data['notes']"
   ]
  },
  {
   "cell_type": "code",
   "execution_count": null,
   "metadata": {},
   "outputs": [],
   "source": []
  }
 ],
 "metadata": {
  "kernelspec": {
   "display_name": "TDI_env",
   "language": "python",
   "name": "python3"
  },
  "language_info": {
   "codemirror_mode": {
    "name": "ipython",
    "version": 3
   },
   "file_extension": ".py",
   "mimetype": "text/x-python",
   "name": "python",
   "nbconvert_exporter": "python",
   "pygments_lexer": "ipython3",
   "version": "3.12.4"
  }
 },
 "nbformat": 4,
 "nbformat_minor": 2
}
