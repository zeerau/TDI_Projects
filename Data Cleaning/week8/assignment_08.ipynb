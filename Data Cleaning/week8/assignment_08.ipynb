{
  "cells": [
    {
      "cell_type": "markdown",
      "metadata": {
        "id": "kHxw9IUlVOo1"
      },
      "source": [
        "## Reading Data"
      ]
    },
    {
      "cell_type": "code",
      "execution_count": 1,
      "metadata": {
        "id": "CGep8yQCVO_3"
      },
      "outputs": [],
      "source": [
        "# Load library\n",
        "import pandas as pd\n",
        "import numpy as np\n",
        "import os"
      ]
    },
    {
      "cell_type": "code",
      "execution_count": 2,
      "metadata": {
        "colab": {
          "base_uri": "https://localhost:8080/",
          "height": 279
        },
        "id": "kY9BUeuJZv81",
        "outputId": "ba1dfc35-e084-40f4-ba92-5c522235dcc2"
      },
      "outputs": [
        {
          "data": {
            "text/html": [
              "<div>\n",
              "<style scoped>\n",
              "    .dataframe tbody tr th:only-of-type {\n",
              "        vertical-align: middle;\n",
              "    }\n",
              "\n",
              "    .dataframe tbody tr th {\n",
              "        vertical-align: top;\n",
              "    }\n",
              "\n",
              "    .dataframe thead th {\n",
              "        text-align: right;\n",
              "    }\n",
              "</style>\n",
              "<table border=\"1\" class=\"dataframe\">\n",
              "  <thead>\n",
              "    <tr style=\"text-align: right;\">\n",
              "      <th></th>\n",
              "      <th>show_id</th>\n",
              "      <th>type</th>\n",
              "      <th>title</th>\n",
              "      <th>director</th>\n",
              "      <th>cast</th>\n",
              "      <th>country</th>\n",
              "      <th>date_added</th>\n",
              "      <th>release_year</th>\n",
              "      <th>rating</th>\n",
              "      <th>duration</th>\n",
              "      <th>listed_in</th>\n",
              "      <th>description</th>\n",
              "    </tr>\n",
              "  </thead>\n",
              "  <tbody>\n",
              "    <tr>\n",
              "      <th>0</th>\n",
              "      <td>s1</td>\n",
              "      <td>Movie</td>\n",
              "      <td>Dick Johnson Is Dead</td>\n",
              "      <td>Kirsten Johnson</td>\n",
              "      <td>NaN</td>\n",
              "      <td>United States</td>\n",
              "      <td>September 25, 2021</td>\n",
              "      <td>2020</td>\n",
              "      <td>PG-13</td>\n",
              "      <td>90 min</td>\n",
              "      <td>Documentaries</td>\n",
              "      <td>As her father nears the end of his life, filmm...</td>\n",
              "    </tr>\n",
              "    <tr>\n",
              "      <th>1</th>\n",
              "      <td>s2</td>\n",
              "      <td>TV Show</td>\n",
              "      <td>Blood &amp; Water</td>\n",
              "      <td>NaN</td>\n",
              "      <td>Ama Qamata, Khosi Ngema, Gail Mabalane, Thaban...</td>\n",
              "      <td>South Africa</td>\n",
              "      <td>September 24, 2021</td>\n",
              "      <td>2021</td>\n",
              "      <td>TV-MA</td>\n",
              "      <td>2 Seasons</td>\n",
              "      <td>International TV Shows, TV Dramas, TV Mysteries</td>\n",
              "      <td>After crossing paths at a party, a Cape Town t...</td>\n",
              "    </tr>\n",
              "    <tr>\n",
              "      <th>2</th>\n",
              "      <td>s3</td>\n",
              "      <td>TV Show</td>\n",
              "      <td>Ganglands</td>\n",
              "      <td>Julien Leclercq</td>\n",
              "      <td>Sami Bouajila, Tracy Gotoas, Samuel Jouy, Nabi...</td>\n",
              "      <td>NaN</td>\n",
              "      <td>September 24, 2021</td>\n",
              "      <td>2021</td>\n",
              "      <td>TV-MA</td>\n",
              "      <td>1 Season</td>\n",
              "      <td>Crime TV Shows, International TV Shows, TV Act...</td>\n",
              "      <td>To protect his family from a powerful drug lor...</td>\n",
              "    </tr>\n",
              "    <tr>\n",
              "      <th>3</th>\n",
              "      <td>s4</td>\n",
              "      <td>TV Show</td>\n",
              "      <td>Jailbirds New Orleans</td>\n",
              "      <td>NaN</td>\n",
              "      <td>NaN</td>\n",
              "      <td>NaN</td>\n",
              "      <td>September 24, 2021</td>\n",
              "      <td>2021</td>\n",
              "      <td>TV-MA</td>\n",
              "      <td>1 Season</td>\n",
              "      <td>Docuseries, Reality TV</td>\n",
              "      <td>Feuds, flirtations and toilet talk go down amo...</td>\n",
              "    </tr>\n",
              "  </tbody>\n",
              "</table>\n",
              "</div>"
            ],
            "text/plain": [
              "  show_id     type                  title         director  \\\n",
              "0      s1    Movie   Dick Johnson Is Dead  Kirsten Johnson   \n",
              "1      s2  TV Show          Blood & Water              NaN   \n",
              "2      s3  TV Show              Ganglands  Julien Leclercq   \n",
              "3      s4  TV Show  Jailbirds New Orleans              NaN   \n",
              "\n",
              "                                                cast        country  \\\n",
              "0                                                NaN  United States   \n",
              "1  Ama Qamata, Khosi Ngema, Gail Mabalane, Thaban...   South Africa   \n",
              "2  Sami Bouajila, Tracy Gotoas, Samuel Jouy, Nabi...            NaN   \n",
              "3                                                NaN            NaN   \n",
              "\n",
              "           date_added  release_year rating   duration  \\\n",
              "0  September 25, 2021          2020  PG-13     90 min   \n",
              "1  September 24, 2021          2021  TV-MA  2 Seasons   \n",
              "2  September 24, 2021          2021  TV-MA   1 Season   \n",
              "3  September 24, 2021          2021  TV-MA   1 Season   \n",
              "\n",
              "                                           listed_in  \\\n",
              "0                                      Documentaries   \n",
              "1    International TV Shows, TV Dramas, TV Mysteries   \n",
              "2  Crime TV Shows, International TV Shows, TV Act...   \n",
              "3                             Docuseries, Reality TV   \n",
              "\n",
              "                                         description  \n",
              "0  As her father nears the end of his life, filmm...  \n",
              "1  After crossing paths at a party, a Cape Town t...  \n",
              "2  To protect his family from a powerful drug lor...  \n",
              "3  Feuds, flirtations and toilet talk go down amo...  "
            ]
          },
          "execution_count": 2,
          "metadata": {},
          "output_type": "execute_result"
        }
      ],
      "source": [
        "# Set folder locations\n",
        "\n",
        "# Reading data\n",
        "netflix_data = pd.read_csv(r'C:\\Users\\DELL\\Downloads\\archive (3)\\netflix_titles.csv')\n",
        "netflix_data.head(4)"
      ]
    },
    {
      "cell_type": "code",
      "execution_count": 3,
      "metadata": {
        "colab": {
          "base_uri": "https://localhost:8080/"
        },
        "id": "DtuWKXxYnG95",
        "outputId": "5509ccf0-419d-409b-b1bb-172145be465b"
      },
      "outputs": [
        {
          "name": "stdout",
          "output_type": "stream",
          "text": [
            "(8807, 12)\n"
          ]
        }
      ],
      "source": [
        "# Data structure\n",
        "print(netflix_data.shape)"
      ]
    },
    {
      "cell_type": "code",
      "execution_count": 4,
      "metadata": {
        "colab": {
          "base_uri": "https://localhost:8080/"
        },
        "id": "rTO3fx9pNF-p",
        "outputId": "c0946a39-6bb0-423e-a445-c757076d9922"
      },
      "outputs": [
        {
          "name": "stdout",
          "output_type": "stream",
          "text": [
            "show_id         object\n",
            "type            object\n",
            "title           object\n",
            "director        object\n",
            "cast            object\n",
            "country         object\n",
            "date_added      object\n",
            "release_year     int64\n",
            "rating          object\n",
            "duration        object\n",
            "listed_in       object\n",
            "description     object\n",
            "dtype: object\n"
          ]
        }
      ],
      "source": [
        "# Analyse data types\n",
        "print(netflix_data.dtypes)"
      ]
    },
    {
      "cell_type": "code",
      "execution_count": 5,
      "metadata": {
        "colab": {
          "base_uri": "https://localhost:8080/",
          "height": 460
        },
        "id": "gkwDirrMOeTX",
        "outputId": "38e2c26f-a4d4-4a85-d456-0e9ba0ae24f8"
      },
      "outputs": [
        {
          "data": {
            "text/plain": [
              "show_id            0\n",
              "type               0\n",
              "title              0\n",
              "director        2634\n",
              "cast             825\n",
              "country          831\n",
              "date_added        10\n",
              "release_year       0\n",
              "rating             4\n",
              "duration           3\n",
              "listed_in          0\n",
              "description        0\n",
              "dtype: int64"
            ]
          },
          "execution_count": 5,
          "metadata": {},
          "output_type": "execute_result"
        }
      ],
      "source": [
        "# Evaluate missingness\n",
        "netflix_data.isna().sum()"
      ]
    },
    {
      "cell_type": "code",
      "execution_count": 6,
      "metadata": {
        "colab": {
          "base_uri": "https://localhost:8080/"
        },
        "id": "LK8js4VhaPCc",
        "outputId": "bfa96fb4-68a8-49d2-9dc3-c324ec51f359"
      },
      "outputs": [
        {
          "name": "stdout",
          "output_type": "stream",
          "text": [
            "<class 'pandas.core.frame.DataFrame'>\n",
            "RangeIndex: 8807 entries, 0 to 8806\n",
            "Data columns (total 12 columns):\n",
            " #   Column        Non-Null Count  Dtype \n",
            "---  ------        --------------  ----- \n",
            " 0   show_id       8807 non-null   object\n",
            " 1   type          8807 non-null   object\n",
            " 2   title         8807 non-null   object\n",
            " 3   director      6173 non-null   object\n",
            " 4   cast          7982 non-null   object\n",
            " 5   country       7976 non-null   object\n",
            " 6   date_added    8797 non-null   object\n",
            " 7   release_year  8807 non-null   int64 \n",
            " 8   rating        8803 non-null   object\n",
            " 9   duration      8804 non-null   object\n",
            " 10  listed_in     8807 non-null   object\n",
            " 11  description   8807 non-null   object\n",
            "dtypes: int64(1), object(11)\n",
            "memory usage: 825.8+ KB\n"
          ]
        }
      ],
      "source": [
        "# data summary\n",
        "netflix_data.info()"
      ]
    },
    {
      "cell_type": "markdown",
      "metadata": {
        "id": "JpakCx1Ip25N"
      },
      "source": [
        "## Section A: Expected cleaned and transformed data\n",
        "![image.png](data:image/png;base64,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)"
      ]
    },
    {
      "cell_type": "code",
      "execution_count": 7,
      "metadata": {},
      "outputs": [],
      "source": [
        "# Remove unnecessary columns like show_id, description, and director.\n",
        "\n",
        "netflix_data.drop(labels=['show_id','description','director'],axis=1,inplace=True)"
      ]
    },
    {
      "cell_type": "code",
      "execution_count": 8,
      "metadata": {},
      "outputs": [],
      "source": [
        "# Eliminate rows with missing values from the dataset.\n",
        "netflix_data.dropna(axis=0,how='any',inplace=True)"
      ]
    },
    {
      "cell_type": "code",
      "execution_count": 9,
      "metadata": {},
      "outputs": [],
      "source": [
        "# Convert the date_added and release_year columns into datetime format, and extract year, month, and day from date_added, along with extracting the year from release_year.\n",
        "netflix_data['date_added'] = pd.to_datetime(netflix_data['date_added'],format='mixed')"
      ]
    },
    {
      "cell_type": "code",
      "execution_count": 10,
      "metadata": {},
      "outputs": [
        {
          "data": {
            "text/plain": [
              "1      2021-09-24\n",
              "4      2021-09-24\n",
              "7      2021-09-24\n",
              "8      2021-09-24\n",
              "9      2021-09-24\n",
              "          ...    \n",
              "8801   2016-03-09\n",
              "8802   2019-11-20\n",
              "8804   2019-11-01\n",
              "8805   2020-01-11\n",
              "8806   2019-03-02\n",
              "Name: date_added, Length: 7290, dtype: datetime64[ns]"
            ]
          },
          "execution_count": 10,
          "metadata": {},
          "output_type": "execute_result"
        }
      ],
      "source": [
        "netflix_data['date_added']"
      ]
    },
    {
      "cell_type": "code",
      "execution_count": 11,
      "metadata": {},
      "outputs": [],
      "source": [
        "# Convert the date_added and release_year columns into datetime format, and extract year, month, and day from date_added, along with extracting the year from release_year.\n",
        "\n",
        "netflix_data['release_year'] = pd.to_datetime(netflix_data['release_year'])"
      ]
    },
    {
      "cell_type": "code",
      "execution_count": 12,
      "metadata": {},
      "outputs": [],
      "source": [
        "# Convert the date_added and release_year columns into datetime format, and extract year, month, and day from date_added, along with extracting the year from release_year.\n",
        "\n",
        "netflix_data['year'] = pd.DatetimeIndex(netflix_data['date_added']).year\n",
        "\n",
        "netflix_data['month'] = pd.DatetimeIndex(netflix_data['date_added']).month\n",
        "\n",
        "netflix_data['day'] = pd.DatetimeIndex(netflix_data['date_added']).day"
      ]
    },
    {
      "cell_type": "code",
      "execution_count": 13,
      "metadata": {},
      "outputs": [],
      "source": [
        "netflix_data['release_year']= pd.DatetimeIndex(netflix_data['release_year']).year"
      ]
    },
    {
      "cell_type": "code",
      "execution_count": 14,
      "metadata": {},
      "outputs": [
        {
          "data": {
            "text/html": [
              "<div>\n",
              "<style scoped>\n",
              "    .dataframe tbody tr th:only-of-type {\n",
              "        vertical-align: middle;\n",
              "    }\n",
              "\n",
              "    .dataframe tbody tr th {\n",
              "        vertical-align: top;\n",
              "    }\n",
              "\n",
              "    .dataframe thead th {\n",
              "        text-align: right;\n",
              "    }\n",
              "</style>\n",
              "<table border=\"1\" class=\"dataframe\">\n",
              "  <thead>\n",
              "    <tr style=\"text-align: right;\">\n",
              "      <th></th>\n",
              "      <th>type</th>\n",
              "      <th>title</th>\n",
              "      <th>cast</th>\n",
              "      <th>country</th>\n",
              "      <th>date_added</th>\n",
              "      <th>release_year</th>\n",
              "      <th>rating</th>\n",
              "      <th>duration</th>\n",
              "      <th>listed_in</th>\n",
              "      <th>year</th>\n",
              "      <th>month</th>\n",
              "      <th>day</th>\n",
              "    </tr>\n",
              "  </thead>\n",
              "  <tbody>\n",
              "    <tr>\n",
              "      <th>1</th>\n",
              "      <td>TV Show</td>\n",
              "      <td>Blood &amp; Water</td>\n",
              "      <td>Ama Qamata, Khosi Ngema, Gail Mabalane, Thaban...</td>\n",
              "      <td>South Africa</td>\n",
              "      <td>2021-09-24</td>\n",
              "      <td>1970</td>\n",
              "      <td>TV-MA</td>\n",
              "      <td>2 Seasons</td>\n",
              "      <td>International TV Shows, TV Dramas, TV Mysteries</td>\n",
              "      <td>2021</td>\n",
              "      <td>9</td>\n",
              "      <td>24</td>\n",
              "    </tr>\n",
              "    <tr>\n",
              "      <th>4</th>\n",
              "      <td>TV Show</td>\n",
              "      <td>Kota Factory</td>\n",
              "      <td>Mayur More, Jitendra Kumar, Ranjan Raj, Alam K...</td>\n",
              "      <td>India</td>\n",
              "      <td>2021-09-24</td>\n",
              "      <td>1970</td>\n",
              "      <td>TV-MA</td>\n",
              "      <td>2 Seasons</td>\n",
              "      <td>International TV Shows, Romantic TV Shows, TV ...</td>\n",
              "      <td>2021</td>\n",
              "      <td>9</td>\n",
              "      <td>24</td>\n",
              "    </tr>\n",
              "    <tr>\n",
              "      <th>7</th>\n",
              "      <td>Movie</td>\n",
              "      <td>Sankofa</td>\n",
              "      <td>Kofi Ghanaba, Oyafunmike Ogunlano, Alexandra D...</td>\n",
              "      <td>United States, Ghana, Burkina Faso, United Kin...</td>\n",
              "      <td>2021-09-24</td>\n",
              "      <td>1970</td>\n",
              "      <td>TV-MA</td>\n",
              "      <td>125 min</td>\n",
              "      <td>Dramas, Independent Movies, International Movies</td>\n",
              "      <td>2021</td>\n",
              "      <td>9</td>\n",
              "      <td>24</td>\n",
              "    </tr>\n",
              "    <tr>\n",
              "      <th>8</th>\n",
              "      <td>TV Show</td>\n",
              "      <td>The Great British Baking Show</td>\n",
              "      <td>Mel Giedroyc, Sue Perkins, Mary Berry, Paul Ho...</td>\n",
              "      <td>United Kingdom</td>\n",
              "      <td>2021-09-24</td>\n",
              "      <td>1970</td>\n",
              "      <td>TV-14</td>\n",
              "      <td>9 Seasons</td>\n",
              "      <td>British TV Shows, Reality TV</td>\n",
              "      <td>2021</td>\n",
              "      <td>9</td>\n",
              "      <td>24</td>\n",
              "    </tr>\n",
              "    <tr>\n",
              "      <th>9</th>\n",
              "      <td>Movie</td>\n",
              "      <td>The Starling</td>\n",
              "      <td>Melissa McCarthy, Chris O'Dowd, Kevin Kline, T...</td>\n",
              "      <td>United States</td>\n",
              "      <td>2021-09-24</td>\n",
              "      <td>1970</td>\n",
              "      <td>PG-13</td>\n",
              "      <td>104 min</td>\n",
              "      <td>Comedies, Dramas</td>\n",
              "      <td>2021</td>\n",
              "      <td>9</td>\n",
              "      <td>24</td>\n",
              "    </tr>\n",
              "  </tbody>\n",
              "</table>\n",
              "</div>"
            ],
            "text/plain": [
              "      type                          title  \\\n",
              "1  TV Show                  Blood & Water   \n",
              "4  TV Show                   Kota Factory   \n",
              "7    Movie                        Sankofa   \n",
              "8  TV Show  The Great British Baking Show   \n",
              "9    Movie                   The Starling   \n",
              "\n",
              "                                                cast  \\\n",
              "1  Ama Qamata, Khosi Ngema, Gail Mabalane, Thaban...   \n",
              "4  Mayur More, Jitendra Kumar, Ranjan Raj, Alam K...   \n",
              "7  Kofi Ghanaba, Oyafunmike Ogunlano, Alexandra D...   \n",
              "8  Mel Giedroyc, Sue Perkins, Mary Berry, Paul Ho...   \n",
              "9  Melissa McCarthy, Chris O'Dowd, Kevin Kline, T...   \n",
              "\n",
              "                                             country date_added  release_year  \\\n",
              "1                                       South Africa 2021-09-24          1970   \n",
              "4                                              India 2021-09-24          1970   \n",
              "7  United States, Ghana, Burkina Faso, United Kin... 2021-09-24          1970   \n",
              "8                                     United Kingdom 2021-09-24          1970   \n",
              "9                                      United States 2021-09-24          1970   \n",
              "\n",
              "  rating   duration                                          listed_in  year  \\\n",
              "1  TV-MA  2 Seasons    International TV Shows, TV Dramas, TV Mysteries  2021   \n",
              "4  TV-MA  2 Seasons  International TV Shows, Romantic TV Shows, TV ...  2021   \n",
              "7  TV-MA    125 min   Dramas, Independent Movies, International Movies  2021   \n",
              "8  TV-14  9 Seasons                       British TV Shows, Reality TV  2021   \n",
              "9  PG-13    104 min                                   Comedies, Dramas  2021   \n",
              "\n",
              "   month  day  \n",
              "1      9   24  \n",
              "4      9   24  \n",
              "7      9   24  \n",
              "8      9   24  \n",
              "9      9   24  "
            ]
          },
          "execution_count": 14,
          "metadata": {},
          "output_type": "execute_result"
        }
      ],
      "source": [
        "netflix_data.head()"
      ]
    },
    {
      "cell_type": "code",
      "execution_count": 15,
      "metadata": {},
      "outputs": [
        {
          "data": {
            "text/plain": [
              "1       19\n",
              "4        8\n",
              "7        8\n",
              "8        4\n",
              "9       11\n",
              "        ..\n",
              "8801     6\n",
              "8802    10\n",
              "8804     7\n",
              "8805     9\n",
              "8806     8\n",
              "Name: cast_count, Length: 7290, dtype: int64"
            ]
          },
          "execution_count": 15,
          "metadata": {},
          "output_type": "execute_result"
        }
      ],
      "source": [
        "# Calculate the total number of cast members for each show or movie and \n",
        "\n",
        "netflix_data['cast_count'] = netflix_data['cast'].apply(lambda x: len(str(x).split(',')))\n",
        "\n",
        "netflix_data['cast_count']"
      ]
    },
    {
      "cell_type": "code",
      "execution_count": 16,
      "metadata": {},
      "outputs": [
        {
          "data": {
            "text/plain": [
              "1             Ama Qamata\n",
              "4             Mayur More\n",
              "7           Kofi Ghanaba\n",
              "8           Mel Giedroyc\n",
              "9       Melissa McCarthy\n",
              "              ...       \n",
              "8801         Ali Suliman\n",
              "8802        Mark Ruffalo\n",
              "8804     Jesse Eisenberg\n",
              "8805           Tim Allen\n",
              "8806       Vicky Kaushal\n",
              "Name: lead_actor, Length: 7290, dtype: object"
            ]
          },
          "execution_count": 16,
          "metadata": {},
          "output_type": "execute_result"
        }
      ],
      "source": [
        "# determine how to extract the lead actor’s name from the cast column, assuming the first actor listed is the lead.\n",
        "netflix_data['lead_actor'] = netflix_data['cast'].str.split(',').str.get(0)\n",
        "# netflix_data['lead_actor'] = netflix_data['cast'].str[0]\n",
        "netflix_data['lead_actor']\n"
      ]
    },
    {
      "cell_type": "code",
      "execution_count": 17,
      "metadata": {},
      "outputs": [],
      "source": [
        "# 6.Standardize the duration column by converting it into an integer format.\n",
        "\n",
        "netflix_data['duration'] = netflix_data['duration'].str.split(' ').str.get(0).astype('int')"
      ]
    },
    {
      "cell_type": "code",
      "execution_count": 18,
      "metadata": {},
      "outputs": [
        {
          "data": {
            "text/html": [
              "<div>\n",
              "<style scoped>\n",
              "    .dataframe tbody tr th:only-of-type {\n",
              "        vertical-align: middle;\n",
              "    }\n",
              "\n",
              "    .dataframe tbody tr th {\n",
              "        vertical-align: top;\n",
              "    }\n",
              "\n",
              "    .dataframe thead th {\n",
              "        text-align: right;\n",
              "    }\n",
              "</style>\n",
              "<table border=\"1\" class=\"dataframe\">\n",
              "  <thead>\n",
              "    <tr style=\"text-align: right;\">\n",
              "      <th></th>\n",
              "      <th>type</th>\n",
              "      <th>title</th>\n",
              "      <th>cast</th>\n",
              "      <th>country</th>\n",
              "      <th>date_added</th>\n",
              "      <th>release_year</th>\n",
              "      <th>rating</th>\n",
              "      <th>duration</th>\n",
              "      <th>listed_in</th>\n",
              "      <th>year</th>\n",
              "      <th>month</th>\n",
              "      <th>day</th>\n",
              "      <th>cast_count</th>\n",
              "      <th>lead_actor</th>\n",
              "    </tr>\n",
              "  </thead>\n",
              "  <tbody>\n",
              "    <tr>\n",
              "      <th>1</th>\n",
              "      <td>TV Show</td>\n",
              "      <td>Blood &amp; Water</td>\n",
              "      <td>Ama Qamata, Khosi Ngema, Gail Mabalane, Thaban...</td>\n",
              "      <td>South Africa</td>\n",
              "      <td>2021-09-24</td>\n",
              "      <td>1970</td>\n",
              "      <td>TV-MA</td>\n",
              "      <td>2</td>\n",
              "      <td>International TV Shows, TV Dramas, TV Mysteries</td>\n",
              "      <td>2021</td>\n",
              "      <td>9</td>\n",
              "      <td>24</td>\n",
              "      <td>19</td>\n",
              "      <td>Ama Qamata</td>\n",
              "    </tr>\n",
              "    <tr>\n",
              "      <th>4</th>\n",
              "      <td>TV Show</td>\n",
              "      <td>Kota Factory</td>\n",
              "      <td>Mayur More, Jitendra Kumar, Ranjan Raj, Alam K...</td>\n",
              "      <td>India</td>\n",
              "      <td>2021-09-24</td>\n",
              "      <td>1970</td>\n",
              "      <td>TV-MA</td>\n",
              "      <td>2</td>\n",
              "      <td>International TV Shows, Romantic TV Shows, TV ...</td>\n",
              "      <td>2021</td>\n",
              "      <td>9</td>\n",
              "      <td>24</td>\n",
              "      <td>8</td>\n",
              "      <td>Mayur More</td>\n",
              "    </tr>\n",
              "    <tr>\n",
              "      <th>7</th>\n",
              "      <td>Movie</td>\n",
              "      <td>Sankofa</td>\n",
              "      <td>Kofi Ghanaba, Oyafunmike Ogunlano, Alexandra D...</td>\n",
              "      <td>United States, Ghana, Burkina Faso, United Kin...</td>\n",
              "      <td>2021-09-24</td>\n",
              "      <td>1970</td>\n",
              "      <td>TV-MA</td>\n",
              "      <td>125</td>\n",
              "      <td>Dramas, Independent Movies, International Movies</td>\n",
              "      <td>2021</td>\n",
              "      <td>9</td>\n",
              "      <td>24</td>\n",
              "      <td>8</td>\n",
              "      <td>Kofi Ghanaba</td>\n",
              "    </tr>\n",
              "    <tr>\n",
              "      <th>8</th>\n",
              "      <td>TV Show</td>\n",
              "      <td>The Great British Baking Show</td>\n",
              "      <td>Mel Giedroyc, Sue Perkins, Mary Berry, Paul Ho...</td>\n",
              "      <td>United Kingdom</td>\n",
              "      <td>2021-09-24</td>\n",
              "      <td>1970</td>\n",
              "      <td>TV-14</td>\n",
              "      <td>9</td>\n",
              "      <td>British TV Shows, Reality TV</td>\n",
              "      <td>2021</td>\n",
              "      <td>9</td>\n",
              "      <td>24</td>\n",
              "      <td>4</td>\n",
              "      <td>Mel Giedroyc</td>\n",
              "    </tr>\n",
              "  </tbody>\n",
              "</table>\n",
              "</div>"
            ],
            "text/plain": [
              "      type                          title  \\\n",
              "1  TV Show                  Blood & Water   \n",
              "4  TV Show                   Kota Factory   \n",
              "7    Movie                        Sankofa   \n",
              "8  TV Show  The Great British Baking Show   \n",
              "\n",
              "                                                cast  \\\n",
              "1  Ama Qamata, Khosi Ngema, Gail Mabalane, Thaban...   \n",
              "4  Mayur More, Jitendra Kumar, Ranjan Raj, Alam K...   \n",
              "7  Kofi Ghanaba, Oyafunmike Ogunlano, Alexandra D...   \n",
              "8  Mel Giedroyc, Sue Perkins, Mary Berry, Paul Ho...   \n",
              "\n",
              "                                             country date_added  release_year  \\\n",
              "1                                       South Africa 2021-09-24          1970   \n",
              "4                                              India 2021-09-24          1970   \n",
              "7  United States, Ghana, Burkina Faso, United Kin... 2021-09-24          1970   \n",
              "8                                     United Kingdom 2021-09-24          1970   \n",
              "\n",
              "  rating  duration                                          listed_in  year  \\\n",
              "1  TV-MA         2    International TV Shows, TV Dramas, TV Mysteries  2021   \n",
              "4  TV-MA         2  International TV Shows, Romantic TV Shows, TV ...  2021   \n",
              "7  TV-MA       125   Dramas, Independent Movies, International Movies  2021   \n",
              "8  TV-14         9                       British TV Shows, Reality TV  2021   \n",
              "\n",
              "   month  day  cast_count    lead_actor  \n",
              "1      9   24          19    Ama Qamata  \n",
              "4      9   24           8    Mayur More  \n",
              "7      9   24           8  Kofi Ghanaba  \n",
              "8      9   24           4  Mel Giedroyc  "
            ]
          },
          "execution_count": 18,
          "metadata": {},
          "output_type": "execute_result"
        }
      ],
      "source": [
        "netflix_data.head(4)"
      ]
    },
    {
      "cell_type": "code",
      "execution_count": 19,
      "metadata": {},
      "outputs": [],
      "source": [
        "# 7.Clean and capitalize the country names in the country column, ensuring no extra spaces.\n",
        "\n",
        "netflix_data['country']= netflix_data['country'].str.strip().str.title()"
      ]
    },
    {
      "cell_type": "code",
      "execution_count": 20,
      "metadata": {},
      "outputs": [
        {
          "data": {
            "text/html": [
              "<div>\n",
              "<style scoped>\n",
              "    .dataframe tbody tr th:only-of-type {\n",
              "        vertical-align: middle;\n",
              "    }\n",
              "\n",
              "    .dataframe tbody tr th {\n",
              "        vertical-align: top;\n",
              "    }\n",
              "\n",
              "    .dataframe thead th {\n",
              "        text-align: right;\n",
              "    }\n",
              "</style>\n",
              "<table border=\"1\" class=\"dataframe\">\n",
              "  <thead>\n",
              "    <tr style=\"text-align: right;\">\n",
              "      <th></th>\n",
              "      <th>type</th>\n",
              "      <th>title</th>\n",
              "      <th>cast</th>\n",
              "      <th>country</th>\n",
              "      <th>date_added</th>\n",
              "      <th>release_year</th>\n",
              "      <th>rating</th>\n",
              "      <th>duration</th>\n",
              "      <th>listed_in</th>\n",
              "      <th>year</th>\n",
              "      <th>month</th>\n",
              "      <th>day</th>\n",
              "      <th>cast_count</th>\n",
              "      <th>lead_actor</th>\n",
              "    </tr>\n",
              "  </thead>\n",
              "  <tbody>\n",
              "    <tr>\n",
              "      <th>1</th>\n",
              "      <td>TV Show</td>\n",
              "      <td>Blood &amp; Water</td>\n",
              "      <td>Ama Qamata, Khosi Ngema, Gail Mabalane, Thaban...</td>\n",
              "      <td>South Africa</td>\n",
              "      <td>2021-09-24</td>\n",
              "      <td>1970</td>\n",
              "      <td>TV-MA</td>\n",
              "      <td>2</td>\n",
              "      <td>International TV Shows, TV Dramas, TV Mysteries</td>\n",
              "      <td>2021</td>\n",
              "      <td>9</td>\n",
              "      <td>24</td>\n",
              "      <td>19</td>\n",
              "      <td>Ama Qamata</td>\n",
              "    </tr>\n",
              "    <tr>\n",
              "      <th>4</th>\n",
              "      <td>TV Show</td>\n",
              "      <td>Kota Factory</td>\n",
              "      <td>Mayur More, Jitendra Kumar, Ranjan Raj, Alam K...</td>\n",
              "      <td>India</td>\n",
              "      <td>2021-09-24</td>\n",
              "      <td>1970</td>\n",
              "      <td>TV-MA</td>\n",
              "      <td>2</td>\n",
              "      <td>International TV Shows, Romantic TV Shows, TV ...</td>\n",
              "      <td>2021</td>\n",
              "      <td>9</td>\n",
              "      <td>24</td>\n",
              "      <td>8</td>\n",
              "      <td>Mayur More</td>\n",
              "    </tr>\n",
              "    <tr>\n",
              "      <th>7</th>\n",
              "      <td>Movie</td>\n",
              "      <td>Sankofa</td>\n",
              "      <td>Kofi Ghanaba, Oyafunmike Ogunlano, Alexandra D...</td>\n",
              "      <td>United States, Ghana, Burkina Faso, United Kin...</td>\n",
              "      <td>2021-09-24</td>\n",
              "      <td>1970</td>\n",
              "      <td>TV-MA</td>\n",
              "      <td>125</td>\n",
              "      <td>Dramas, Independent Movies, International Movies</td>\n",
              "      <td>2021</td>\n",
              "      <td>9</td>\n",
              "      <td>24</td>\n",
              "      <td>8</td>\n",
              "      <td>Kofi Ghanaba</td>\n",
              "    </tr>\n",
              "    <tr>\n",
              "      <th>8</th>\n",
              "      <td>TV Show</td>\n",
              "      <td>The Great British Baking Show</td>\n",
              "      <td>Mel Giedroyc, Sue Perkins, Mary Berry, Paul Ho...</td>\n",
              "      <td>United Kingdom</td>\n",
              "      <td>2021-09-24</td>\n",
              "      <td>1970</td>\n",
              "      <td>TV-14</td>\n",
              "      <td>9</td>\n",
              "      <td>British TV Shows, Reality TV</td>\n",
              "      <td>2021</td>\n",
              "      <td>9</td>\n",
              "      <td>24</td>\n",
              "      <td>4</td>\n",
              "      <td>Mel Giedroyc</td>\n",
              "    </tr>\n",
              "  </tbody>\n",
              "</table>\n",
              "</div>"
            ],
            "text/plain": [
              "      type                          title  \\\n",
              "1  TV Show                  Blood & Water   \n",
              "4  TV Show                   Kota Factory   \n",
              "7    Movie                        Sankofa   \n",
              "8  TV Show  The Great British Baking Show   \n",
              "\n",
              "                                                cast  \\\n",
              "1  Ama Qamata, Khosi Ngema, Gail Mabalane, Thaban...   \n",
              "4  Mayur More, Jitendra Kumar, Ranjan Raj, Alam K...   \n",
              "7  Kofi Ghanaba, Oyafunmike Ogunlano, Alexandra D...   \n",
              "8  Mel Giedroyc, Sue Perkins, Mary Berry, Paul Ho...   \n",
              "\n",
              "                                             country date_added  release_year  \\\n",
              "1                                       South Africa 2021-09-24          1970   \n",
              "4                                              India 2021-09-24          1970   \n",
              "7  United States, Ghana, Burkina Faso, United Kin... 2021-09-24          1970   \n",
              "8                                     United Kingdom 2021-09-24          1970   \n",
              "\n",
              "  rating  duration                                          listed_in  year  \\\n",
              "1  TV-MA         2    International TV Shows, TV Dramas, TV Mysteries  2021   \n",
              "4  TV-MA         2  International TV Shows, Romantic TV Shows, TV ...  2021   \n",
              "7  TV-MA       125   Dramas, Independent Movies, International Movies  2021   \n",
              "8  TV-14         9                       British TV Shows, Reality TV  2021   \n",
              "\n",
              "   month  day  cast_count    lead_actor  \n",
              "1      9   24          19    Ama Qamata  \n",
              "4      9   24           8    Mayur More  \n",
              "7      9   24           8  Kofi Ghanaba  \n",
              "8      9   24           4  Mel Giedroyc  "
            ]
          },
          "execution_count": 20,
          "metadata": {},
          "output_type": "execute_result"
        }
      ],
      "source": [
        "netflix_data.head(4)"
      ]
    },
    {
      "cell_type": "code",
      "execution_count": 21,
      "metadata": {},
      "outputs": [],
      "source": [
        "# Calculate how many genres each show or movie is listed under (i.e., column to be added is genre count).\n",
        "\n",
        "netflix_data['genre_count'] = netflix_data['listed_in'].apply(lambda x: len(str(x).split(',')))"
      ]
    },
    {
      "cell_type": "code",
      "execution_count": 22,
      "metadata": {},
      "outputs": [
        {
          "data": {
            "text/html": [
              "<div>\n",
              "<style scoped>\n",
              "    .dataframe tbody tr th:only-of-type {\n",
              "        vertical-align: middle;\n",
              "    }\n",
              "\n",
              "    .dataframe tbody tr th {\n",
              "        vertical-align: top;\n",
              "    }\n",
              "\n",
              "    .dataframe thead th {\n",
              "        text-align: right;\n",
              "    }\n",
              "</style>\n",
              "<table border=\"1\" class=\"dataframe\">\n",
              "  <thead>\n",
              "    <tr style=\"text-align: right;\">\n",
              "      <th></th>\n",
              "      <th>type</th>\n",
              "      <th>title</th>\n",
              "      <th>cast</th>\n",
              "      <th>country</th>\n",
              "      <th>date_added</th>\n",
              "      <th>release_year</th>\n",
              "      <th>rating</th>\n",
              "      <th>duration</th>\n",
              "      <th>listed_in</th>\n",
              "      <th>year</th>\n",
              "      <th>month</th>\n",
              "      <th>day</th>\n",
              "      <th>cast_count</th>\n",
              "      <th>lead_actor</th>\n",
              "      <th>genre_count</th>\n",
              "    </tr>\n",
              "  </thead>\n",
              "  <tbody>\n",
              "    <tr>\n",
              "      <th>1</th>\n",
              "      <td>TV Show</td>\n",
              "      <td>Blood &amp; Water</td>\n",
              "      <td>Ama Qamata, Khosi Ngema, Gail Mabalane, Thaban...</td>\n",
              "      <td>South Africa</td>\n",
              "      <td>2021-09-24</td>\n",
              "      <td>1970</td>\n",
              "      <td>TV-MA</td>\n",
              "      <td>2</td>\n",
              "      <td>International TV Shows, TV Dramas, TV Mysteries</td>\n",
              "      <td>2021</td>\n",
              "      <td>9</td>\n",
              "      <td>24</td>\n",
              "      <td>19</td>\n",
              "      <td>Ama Qamata</td>\n",
              "      <td>3</td>\n",
              "    </tr>\n",
              "    <tr>\n",
              "      <th>4</th>\n",
              "      <td>TV Show</td>\n",
              "      <td>Kota Factory</td>\n",
              "      <td>Mayur More, Jitendra Kumar, Ranjan Raj, Alam K...</td>\n",
              "      <td>India</td>\n",
              "      <td>2021-09-24</td>\n",
              "      <td>1970</td>\n",
              "      <td>TV-MA</td>\n",
              "      <td>2</td>\n",
              "      <td>International TV Shows, Romantic TV Shows, TV ...</td>\n",
              "      <td>2021</td>\n",
              "      <td>9</td>\n",
              "      <td>24</td>\n",
              "      <td>8</td>\n",
              "      <td>Mayur More</td>\n",
              "      <td>3</td>\n",
              "    </tr>\n",
              "  </tbody>\n",
              "</table>\n",
              "</div>"
            ],
            "text/plain": [
              "      type          title                                               cast  \\\n",
              "1  TV Show  Blood & Water  Ama Qamata, Khosi Ngema, Gail Mabalane, Thaban...   \n",
              "4  TV Show   Kota Factory  Mayur More, Jitendra Kumar, Ranjan Raj, Alam K...   \n",
              "\n",
              "        country date_added  release_year rating  duration  \\\n",
              "1  South Africa 2021-09-24          1970  TV-MA         2   \n",
              "4         India 2021-09-24          1970  TV-MA         2   \n",
              "\n",
              "                                           listed_in  year  month  day  \\\n",
              "1    International TV Shows, TV Dramas, TV Mysteries  2021      9   24   \n",
              "4  International TV Shows, Romantic TV Shows, TV ...  2021      9   24   \n",
              "\n",
              "   cast_count  lead_actor  genre_count  \n",
              "1          19  Ama Qamata            3  \n",
              "4           8  Mayur More            3  "
            ]
          },
          "execution_count": 22,
          "metadata": {},
          "output_type": "execute_result"
        }
      ],
      "source": [
        "netflix_data.head(2)"
      ]
    },
    {
      "cell_type": "code",
      "execution_count": null,
      "metadata": {},
      "outputs": [],
      "source": []
    }
  ],
  "metadata": {
    "colab": {
      "provenance": []
    },
    "kernelspec": {
      "display_name": "Python 3",
      "name": "python3"
    },
    "language_info": {
      "codemirror_mode": {
        "name": "ipython",
        "version": 3
      },
      "file_extension": ".py",
      "mimetype": "text/x-python",
      "name": "python",
      "nbconvert_exporter": "python",
      "pygments_lexer": "ipython3",
      "version": "3.12.4"
    }
  },
  "nbformat": 4,
  "nbformat_minor": 0
}
