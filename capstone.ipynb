{
  "nbformat": 4,
  "nbformat_minor": 0,
  "metadata": {
    "colab": {
      "provenance": [],
      "authorship_tag": "ABX9TyPkCws0urjQ5HP4AusYqPso"
    },
    "kernelspec": {
      "name": "python3",
      "display_name": "Python 3"
    },
    "language_info": {
      "name": "python"
    }
  },
  "cells": [
    {
      "source": [
        "import os\n",
        "import pandas as pd\n",
        "import kagglehub\n",
        "import matplotlib.pyplot as plt\n",
        "import seaborn as sns\n",
        "\n",
        "def pandas_df(path: str, file_name: str) -> pd.DataFrame:\n",
        "    \"\"\"The func accepts a path and file name from kaggle website.\n",
        "    params: file_name (str)\n",
        "    returns: pandas dataframe\n",
        "    \"\"\"\n",
        "\n",
        "    # List all files in the downloaded directory\n",
        "    files = os.listdir(path)\n",
        "    print(f\"Files in the dataset directory: {files}\")\n",
        "\n",
        "    # Check if 'data.csv' or any csv file exists\n",
        "    csv_files = [f for f in files if f.endswith('.csv')]\n",
        "    if not csv_files:\n",
        "        raise FileNotFoundError(\"No CSV files found in the dataset directory. Check the dataset content.\")\n",
        "\n",
        "    # Use the first found csv file if 'data.csv' is not found\n",
        "    file_name = csv_files[0] if f\"{file_name}.csv\" not in csv_files else f\"{file_name}.csv\"\n",
        "\n",
        "\n",
        "    path = os.path.join(path, file_name)\n",
        "    return pd.read_csv(path)\n",
        "\n",
        "\n",
        "# Download latest version\n",
        "elec_path = kagglehub.dataset_download(\"rajkumarpandey02/electric-vehicle-population-data\")\n",
        "# https://www.kaggle.com/datasets/ironwolf404/electric-vehicle-population-in-usa\n",
        "\n",
        "elec_ds = pandas_df(elec_path, 'Electric_Vehicle_Population_Data')\n"
      ],
      "cell_type": "code",
      "metadata": {
        "colab": {
          "base_uri": "https://localhost:8080/"
        },
        "collapsed": true,
        "id": "WIy474oP-y89",
        "outputId": "77ee3587-7432-4812-e2f6-893371eded9a"
      },
      "execution_count": 81,
      "outputs": [
        {
          "output_type": "stream",
          "name": "stdout",
          "text": [
            "Files in the dataset directory: ['Electric_Vehicle_Population_Data.csv']\n"
          ]
        }
      ]
    },
    {
      "cell_type": "code",
      "source": [
        "print(elec_ds.head())"
      ],
      "metadata": {
        "colab": {
          "base_uri": "https://localhost:8080/"
        },
        "id": "FvXPlVEu9yEi",
        "outputId": "75d107d1-6043-4693-be27-12a5b5c20d5a"
      },
      "execution_count": 82,
      "outputs": [
        {
          "output_type": "stream",
          "name": "stdout",
          "text": [
            "   VIN (1-10)     County       City State  Postal Code  Model Year    Make  \\\n",
            "0  5YJ3E1EA0K   Thurston   Tumwater    WA      98512.0        2019   TESLA   \n",
            "1  1N4BZ1DV4N     Island    Clinton    WA      98236.0        2022  NISSAN   \n",
            "2  5YJ3E1EA0L  Snohomish  Snohomish    WA      98290.0        2020   TESLA   \n",
            "3  5YJ3E1EBXL       King    Seattle    WA      98134.0        2020   TESLA   \n",
            "4  5YJSA1CP0D  Snohomish    Edmonds    WA      98020.0        2013   TESLA   \n",
            "\n",
            "     Model           Electric Vehicle Type  \\\n",
            "0  MODEL 3  Battery Electric Vehicle (BEV)   \n",
            "1     LEAF  Battery Electric Vehicle (BEV)   \n",
            "2  MODEL 3  Battery Electric Vehicle (BEV)   \n",
            "3  MODEL 3  Battery Electric Vehicle (BEV)   \n",
            "4  MODEL S  Battery Electric Vehicle (BEV)   \n",
            "\n",
            "   Clean Alternative Fuel Vehicle (CAFV) Eligibility  Electric Range  \\\n",
            "0            Clean Alternative Fuel Vehicle Eligible           220.0   \n",
            "1  Eligibility unknown as battery range has not b...             0.0   \n",
            "2            Clean Alternative Fuel Vehicle Eligible           266.0   \n",
            "3            Clean Alternative Fuel Vehicle Eligible           322.0   \n",
            "4            Clean Alternative Fuel Vehicle Eligible           208.0   \n",
            "\n",
            "   Base MSRP  Legislative District  DOL Vehicle ID  \\\n",
            "0        0.0                  22.0       242565116   \n",
            "1        0.0                  10.0       183272785   \n",
            "2        0.0                  44.0       112552366   \n",
            "3        0.0                  11.0         6336319   \n",
            "4    69900.0                  21.0       186212960   \n",
            "\n",
            "                                 Vehicle Location  \\\n",
            "0   POINT (-122.91310169999997 47.01359260000004)   \n",
            "1   POINT (-122.35936399999997 47.97965520000008)   \n",
            "2   POINT (-122.09150499999998 47.91555500000004)   \n",
            "3  POINT (-122.32981499999994 47.579810000000066)   \n",
            "4            POINT (-122.37507 47.80807000000004)   \n",
            "\n",
            "                               Electric Utility  2020 Census Tract  \n",
            "0                        PUGET SOUND ENERGY INC       5.306701e+10  \n",
            "1                        PUGET SOUND ENERGY INC       5.302997e+10  \n",
            "2                        PUGET SOUND ENERGY INC       5.306105e+10  \n",
            "3  CITY OF SEATTLE - (WA)|CITY OF TACOMA - (WA)       5.303301e+10  \n",
            "4                        PUGET SOUND ENERGY INC       5.306105e+10  \n"
          ]
        }
      ]
    },
    {
      "cell_type": "code",
      "source": [
        "print(elec_ds.shape)"
      ],
      "metadata": {
        "colab": {
          "base_uri": "https://localhost:8080/"
        },
        "id": "jcFaCs8g_6FR",
        "outputId": "9175781c-4be1-4d95-e015-b69b456c81c7"
      },
      "execution_count": 83,
      "outputs": [
        {
          "output_type": "stream",
          "name": "stdout",
          "text": [
            "(135038, 17)\n"
          ]
        }
      ]
    },
    {
      "cell_type": "code",
      "source": [
        "elec_ds.columns"
      ],
      "metadata": {
        "colab": {
          "base_uri": "https://localhost:8080/"
        },
        "id": "ZpvUvaF9ABFo",
        "outputId": "55a1c28f-c5ec-4522-b2b8-c4c8a49f4067"
      },
      "execution_count": 84,
      "outputs": [
        {
          "output_type": "execute_result",
          "data": {
            "text/plain": [
              "Index(['VIN (1-10)', 'County', 'City', 'State', 'Postal Code', 'Model Year',\n",
              "       'Make', 'Model', 'Electric Vehicle Type',\n",
              "       'Clean Alternative Fuel Vehicle (CAFV) Eligibility', 'Electric Range',\n",
              "       'Base MSRP', 'Legislative District', 'DOL Vehicle ID',\n",
              "       'Vehicle Location', 'Electric Utility', '2020 Census Tract'],\n",
              "      dtype='object')"
            ]
          },
          "metadata": {},
          "execution_count": 84
        }
      ]
    },
    {
      "cell_type": "code",
      "source": [
        "elec_ds.info()"
      ],
      "metadata": {
        "colab": {
          "base_uri": "https://localhost:8080/"
        },
        "id": "PS0DzQqLAMcp",
        "outputId": "30af7540-2c84-4a09-b8c9-f4bd56a7d054"
      },
      "execution_count": 85,
      "outputs": [
        {
          "output_type": "stream",
          "name": "stdout",
          "text": [
            "<class 'pandas.core.frame.DataFrame'>\n",
            "RangeIndex: 135038 entries, 0 to 135037\n",
            "Data columns (total 17 columns):\n",
            " #   Column                                             Non-Null Count   Dtype  \n",
            "---  ------                                             --------------   -----  \n",
            " 0   VIN (1-10)                                         135038 non-null  object \n",
            " 1   County                                             135030 non-null  object \n",
            " 2   City                                               135030 non-null  object \n",
            " 3   State                                              135038 non-null  object \n",
            " 4   Postal Code                                        135030 non-null  float64\n",
            " 5   Model Year                                         135038 non-null  int64  \n",
            " 6   Make                                               135038 non-null  object \n",
            " 7   Model                                              134789 non-null  object \n",
            " 8   Electric Vehicle Type                              135038 non-null  object \n",
            " 9   Clean Alternative Fuel Vehicle (CAFV) Eligibility  135038 non-null  object \n",
            " 10  Electric Range                                     135037 non-null  float64\n",
            " 11  Base MSRP                                          135037 non-null  float64\n",
            " 12  Legislative District                               134726 non-null  float64\n",
            " 13  DOL Vehicle ID                                     135038 non-null  int64  \n",
            " 14  Vehicle Location                                   135028 non-null  object \n",
            " 15  Electric Utility                                   135030 non-null  object \n",
            " 16  2020 Census Tract                                  135030 non-null  float64\n",
            "dtypes: float64(5), int64(2), object(10)\n",
            "memory usage: 17.5+ MB\n"
          ]
        }
      ]
    },
    {
      "cell_type": "code",
      "source": [
        "elec_ds.isna().sum()"
      ],
      "metadata": {
        "colab": {
          "base_uri": "https://localhost:8080/",
          "height": 617
        },
        "id": "_ni0okwIAUOB",
        "outputId": "4b6539bb-8f71-4069-e40d-427f3f1fb2a0"
      },
      "execution_count": 86,
      "outputs": [
        {
          "output_type": "execute_result",
          "data": {
            "text/plain": [
              "VIN (1-10)                                             0\n",
              "County                                                 8\n",
              "City                                                   8\n",
              "State                                                  0\n",
              "Postal Code                                            8\n",
              "Model Year                                             0\n",
              "Make                                                   0\n",
              "Model                                                249\n",
              "Electric Vehicle Type                                  0\n",
              "Clean Alternative Fuel Vehicle (CAFV) Eligibility      0\n",
              "Electric Range                                         1\n",
              "Base MSRP                                              1\n",
              "Legislative District                                 312\n",
              "DOL Vehicle ID                                         0\n",
              "Vehicle Location                                      10\n",
              "Electric Utility                                       8\n",
              "2020 Census Tract                                      8\n",
              "dtype: int64"
            ],
            "text/html": [
              "<div>\n",
              "<style scoped>\n",
              "    .dataframe tbody tr th:only-of-type {\n",
              "        vertical-align: middle;\n",
              "    }\n",
              "\n",
              "    .dataframe tbody tr th {\n",
              "        vertical-align: top;\n",
              "    }\n",
              "\n",
              "    .dataframe thead th {\n",
              "        text-align: right;\n",
              "    }\n",
              "</style>\n",
              "<table border=\"1\" class=\"dataframe\">\n",
              "  <thead>\n",
              "    <tr style=\"text-align: right;\">\n",
              "      <th></th>\n",
              "      <th>0</th>\n",
              "    </tr>\n",
              "  </thead>\n",
              "  <tbody>\n",
              "    <tr>\n",
              "      <th>VIN (1-10)</th>\n",
              "      <td>0</td>\n",
              "    </tr>\n",
              "    <tr>\n",
              "      <th>County</th>\n",
              "      <td>8</td>\n",
              "    </tr>\n",
              "    <tr>\n",
              "      <th>City</th>\n",
              "      <td>8</td>\n",
              "    </tr>\n",
              "    <tr>\n",
              "      <th>State</th>\n",
              "      <td>0</td>\n",
              "    </tr>\n",
              "    <tr>\n",
              "      <th>Postal Code</th>\n",
              "      <td>8</td>\n",
              "    </tr>\n",
              "    <tr>\n",
              "      <th>Model Year</th>\n",
              "      <td>0</td>\n",
              "    </tr>\n",
              "    <tr>\n",
              "      <th>Make</th>\n",
              "      <td>0</td>\n",
              "    </tr>\n",
              "    <tr>\n",
              "      <th>Model</th>\n",
              "      <td>249</td>\n",
              "    </tr>\n",
              "    <tr>\n",
              "      <th>Electric Vehicle Type</th>\n",
              "      <td>0</td>\n",
              "    </tr>\n",
              "    <tr>\n",
              "      <th>Clean Alternative Fuel Vehicle (CAFV) Eligibility</th>\n",
              "      <td>0</td>\n",
              "    </tr>\n",
              "    <tr>\n",
              "      <th>Electric Range</th>\n",
              "      <td>1</td>\n",
              "    </tr>\n",
              "    <tr>\n",
              "      <th>Base MSRP</th>\n",
              "      <td>1</td>\n",
              "    </tr>\n",
              "    <tr>\n",
              "      <th>Legislative District</th>\n",
              "      <td>312</td>\n",
              "    </tr>\n",
              "    <tr>\n",
              "      <th>DOL Vehicle ID</th>\n",
              "      <td>0</td>\n",
              "    </tr>\n",
              "    <tr>\n",
              "      <th>Vehicle Location</th>\n",
              "      <td>10</td>\n",
              "    </tr>\n",
              "    <tr>\n",
              "      <th>Electric Utility</th>\n",
              "      <td>8</td>\n",
              "    </tr>\n",
              "    <tr>\n",
              "      <th>2020 Census Tract</th>\n",
              "      <td>8</td>\n",
              "    </tr>\n",
              "  </tbody>\n",
              "</table>\n",
              "</div><br><label><b>dtype:</b> int64</label>"
            ]
          },
          "metadata": {},
          "execution_count": 86
        }
      ]
    },
    {
      "cell_type": "code",
      "source": [
        "for feature in elec_ds.columns:\n",
        "  num_missing = elec_ds[feature].isna().sum()\n",
        "  total_rows = len(elec_ds)\n",
        "  percentage_missing = (num_missing / total_rows) * 100\n",
        "  print(f\"Column '{feature}': {percentage_missing:.2f}% missing\")"
      ],
      "metadata": {
        "colab": {
          "base_uri": "https://localhost:8080/"
        },
        "id": "X0KG2gsxNFnq",
        "outputId": "ec3ad7ed-b9af-4835-90a1-e9fb76fbc660"
      },
      "execution_count": 87,
      "outputs": [
        {
          "output_type": "stream",
          "name": "stdout",
          "text": [
            "Column 'VIN (1-10)': 0.00% missing\n",
            "Column 'County': 0.01% missing\n",
            "Column 'City': 0.01% missing\n",
            "Column 'State': 0.00% missing\n",
            "Column 'Postal Code': 0.01% missing\n",
            "Column 'Model Year': 0.00% missing\n",
            "Column 'Make': 0.00% missing\n",
            "Column 'Model': 0.18% missing\n",
            "Column 'Electric Vehicle Type': 0.00% missing\n",
            "Column 'Clean Alternative Fuel Vehicle (CAFV) Eligibility': 0.00% missing\n",
            "Column 'Electric Range': 0.00% missing\n",
            "Column 'Base MSRP': 0.00% missing\n",
            "Column 'Legislative District': 0.23% missing\n",
            "Column 'DOL Vehicle ID': 0.00% missing\n",
            "Column 'Vehicle Location': 0.01% missing\n",
            "Column 'Electric Utility': 0.01% missing\n",
            "Column '2020 Census Tract': 0.01% missing\n"
          ]
        }
      ]
    },
    {
      "cell_type": "code",
      "source": [
        "elec_ds.drop(columns=['Legislative District', 'DOL Vehicle ID', 'Vehicle Location','Electric Range',],axis=1,inplace=True)"
      ],
      "metadata": {
        "id": "XsNsJSKKOt6A"
      },
      "execution_count": 88,
      "outputs": []
    },
    {
      "source": [
        "elec_ds['Model'].value_counts()"
      ],
      "cell_type": "code",
      "metadata": {
        "colab": {
          "base_uri": "https://localhost:8080/",
          "height": 489
        },
        "id": "_0cD2LENSEwj",
        "outputId": "c8c6ea34-3f0e-470d-95e4-200dd91a375b"
      },
      "execution_count": 89,
      "outputs": [
        {
          "output_type": "execute_result",
          "data": {
            "text/plain": [
              "Model\n",
              "MODEL 3        25837\n",
              "MODEL Y        23577\n",
              "LEAF           13020\n",
              "MODEL S         7473\n",
              "BOLT EV         5419\n",
              "               ...  \n",
              "GV70               2\n",
              "FLYING SPUR        1\n",
              "918                1\n",
              "Q8                 1\n",
              "S-10 PICKUP        1\n",
              "Name: count, Length: 125, dtype: int64"
            ],
            "text/html": [
              "<div>\n",
              "<style scoped>\n",
              "    .dataframe tbody tr th:only-of-type {\n",
              "        vertical-align: middle;\n",
              "    }\n",
              "\n",
              "    .dataframe tbody tr th {\n",
              "        vertical-align: top;\n",
              "    }\n",
              "\n",
              "    .dataframe thead th {\n",
              "        text-align: right;\n",
              "    }\n",
              "</style>\n",
              "<table border=\"1\" class=\"dataframe\">\n",
              "  <thead>\n",
              "    <tr style=\"text-align: right;\">\n",
              "      <th></th>\n",
              "      <th>count</th>\n",
              "    </tr>\n",
              "    <tr>\n",
              "      <th>Model</th>\n",
              "      <th></th>\n",
              "    </tr>\n",
              "  </thead>\n",
              "  <tbody>\n",
              "    <tr>\n",
              "      <th>MODEL 3</th>\n",
              "      <td>25837</td>\n",
              "    </tr>\n",
              "    <tr>\n",
              "      <th>MODEL Y</th>\n",
              "      <td>23577</td>\n",
              "    </tr>\n",
              "    <tr>\n",
              "      <th>LEAF</th>\n",
              "      <td>13020</td>\n",
              "    </tr>\n",
              "    <tr>\n",
              "      <th>MODEL S</th>\n",
              "      <td>7473</td>\n",
              "    </tr>\n",
              "    <tr>\n",
              "      <th>BOLT EV</th>\n",
              "      <td>5419</td>\n",
              "    </tr>\n",
              "    <tr>\n",
              "      <th>...</th>\n",
              "      <td>...</td>\n",
              "    </tr>\n",
              "    <tr>\n",
              "      <th>GV70</th>\n",
              "      <td>2</td>\n",
              "    </tr>\n",
              "    <tr>\n",
              "      <th>FLYING SPUR</th>\n",
              "      <td>1</td>\n",
              "    </tr>\n",
              "    <tr>\n",
              "      <th>918</th>\n",
              "      <td>1</td>\n",
              "    </tr>\n",
              "    <tr>\n",
              "      <th>Q8</th>\n",
              "      <td>1</td>\n",
              "    </tr>\n",
              "    <tr>\n",
              "      <th>S-10 PICKUP</th>\n",
              "      <td>1</td>\n",
              "    </tr>\n",
              "  </tbody>\n",
              "</table>\n",
              "<p>125 rows × 1 columns</p>\n",
              "</div><br><label><b>dtype:</b> int64</label>"
            ]
          },
          "metadata": {},
          "execution_count": 89
        }
      ]
    },
    {
      "cell_type": "code",
      "source": [
        "print(elec_ds.head())"
      ],
      "metadata": {
        "colab": {
          "base_uri": "https://localhost:8080/"
        },
        "id": "VLqFW-aBQh5-",
        "outputId": "1c678f8d-578a-4598-cbda-33ec637fd29e"
      },
      "execution_count": 90,
      "outputs": [
        {
          "output_type": "stream",
          "name": "stdout",
          "text": [
            "   VIN (1-10)     County       City State  Postal Code  Model Year    Make  \\\n",
            "0  5YJ3E1EA0K   Thurston   Tumwater    WA      98512.0        2019   TESLA   \n",
            "1  1N4BZ1DV4N     Island    Clinton    WA      98236.0        2022  NISSAN   \n",
            "2  5YJ3E1EA0L  Snohomish  Snohomish    WA      98290.0        2020   TESLA   \n",
            "3  5YJ3E1EBXL       King    Seattle    WA      98134.0        2020   TESLA   \n",
            "4  5YJSA1CP0D  Snohomish    Edmonds    WA      98020.0        2013   TESLA   \n",
            "\n",
            "     Model           Electric Vehicle Type  \\\n",
            "0  MODEL 3  Battery Electric Vehicle (BEV)   \n",
            "1     LEAF  Battery Electric Vehicle (BEV)   \n",
            "2  MODEL 3  Battery Electric Vehicle (BEV)   \n",
            "3  MODEL 3  Battery Electric Vehicle (BEV)   \n",
            "4  MODEL S  Battery Electric Vehicle (BEV)   \n",
            "\n",
            "   Clean Alternative Fuel Vehicle (CAFV) Eligibility  Base MSRP  \\\n",
            "0            Clean Alternative Fuel Vehicle Eligible        0.0   \n",
            "1  Eligibility unknown as battery range has not b...        0.0   \n",
            "2            Clean Alternative Fuel Vehicle Eligible        0.0   \n",
            "3            Clean Alternative Fuel Vehicle Eligible        0.0   \n",
            "4            Clean Alternative Fuel Vehicle Eligible    69900.0   \n",
            "\n",
            "                               Electric Utility  2020 Census Tract  \n",
            "0                        PUGET SOUND ENERGY INC       5.306701e+10  \n",
            "1                        PUGET SOUND ENERGY INC       5.302997e+10  \n",
            "2                        PUGET SOUND ENERGY INC       5.306105e+10  \n",
            "3  CITY OF SEATTLE - (WA)|CITY OF TACOMA - (WA)       5.303301e+10  \n",
            "4                        PUGET SOUND ENERGY INC       5.306105e+10  \n"
          ]
        }
      ]
    },
    {
      "cell_type": "code",
      "source": [
        "# Get a list of columns to drop rows from (excluding 'Model')\n",
        "columns_to_consider = elec_ds.columns[elec_ds.columns != 'Model']\n",
        "\n",
        "# Drop rows with missing values in the specified columns\n",
        "elec_ds.dropna(subset=columns_to_consider, inplace=True)"
      ],
      "metadata": {
        "id": "xg0mw3ZP9dpE"
      },
      "execution_count": 91,
      "outputs": []
    },
    {
      "cell_type": "code",
      "source": [
        "# filling the missing values of model column with the mode\n",
        "mode_value = elec_ds['Model'].mode()[0]\n",
        "elec_ds['Model'] = elec_ds['Model'].fillna(mode_value)"
      ],
      "metadata": {
        "id": "bK83fr-U33HY"
      },
      "execution_count": 92,
      "outputs": []
    },
    {
      "cell_type": "code",
      "source": [
        "elec_ds.isna().sum()\n"
      ],
      "metadata": {
        "colab": {
          "base_uri": "https://localhost:8080/",
          "height": 491
        },
        "id": "x0UAtbE98zLl",
        "outputId": "2197e1cd-34dd-4921-a9f8-9df17f2f8e88"
      },
      "execution_count": 93,
      "outputs": [
        {
          "output_type": "execute_result",
          "data": {
            "text/plain": [
              "VIN (1-10)                                           0\n",
              "County                                               0\n",
              "City                                                 0\n",
              "State                                                0\n",
              "Postal Code                                          0\n",
              "Model Year                                           0\n",
              "Make                                                 0\n",
              "Model                                                0\n",
              "Electric Vehicle Type                                0\n",
              "Clean Alternative Fuel Vehicle (CAFV) Eligibility    0\n",
              "Base MSRP                                            0\n",
              "Electric Utility                                     0\n",
              "2020 Census Tract                                    0\n",
              "dtype: int64"
            ],
            "text/html": [
              "<div>\n",
              "<style scoped>\n",
              "    .dataframe tbody tr th:only-of-type {\n",
              "        vertical-align: middle;\n",
              "    }\n",
              "\n",
              "    .dataframe tbody tr th {\n",
              "        vertical-align: top;\n",
              "    }\n",
              "\n",
              "    .dataframe thead th {\n",
              "        text-align: right;\n",
              "    }\n",
              "</style>\n",
              "<table border=\"1\" class=\"dataframe\">\n",
              "  <thead>\n",
              "    <tr style=\"text-align: right;\">\n",
              "      <th></th>\n",
              "      <th>0</th>\n",
              "    </tr>\n",
              "  </thead>\n",
              "  <tbody>\n",
              "    <tr>\n",
              "      <th>VIN (1-10)</th>\n",
              "      <td>0</td>\n",
              "    </tr>\n",
              "    <tr>\n",
              "      <th>County</th>\n",
              "      <td>0</td>\n",
              "    </tr>\n",
              "    <tr>\n",
              "      <th>City</th>\n",
              "      <td>0</td>\n",
              "    </tr>\n",
              "    <tr>\n",
              "      <th>State</th>\n",
              "      <td>0</td>\n",
              "    </tr>\n",
              "    <tr>\n",
              "      <th>Postal Code</th>\n",
              "      <td>0</td>\n",
              "    </tr>\n",
              "    <tr>\n",
              "      <th>Model Year</th>\n",
              "      <td>0</td>\n",
              "    </tr>\n",
              "    <tr>\n",
              "      <th>Make</th>\n",
              "      <td>0</td>\n",
              "    </tr>\n",
              "    <tr>\n",
              "      <th>Model</th>\n",
              "      <td>0</td>\n",
              "    </tr>\n",
              "    <tr>\n",
              "      <th>Electric Vehicle Type</th>\n",
              "      <td>0</td>\n",
              "    </tr>\n",
              "    <tr>\n",
              "      <th>Clean Alternative Fuel Vehicle (CAFV) Eligibility</th>\n",
              "      <td>0</td>\n",
              "    </tr>\n",
              "    <tr>\n",
              "      <th>Base MSRP</th>\n",
              "      <td>0</td>\n",
              "    </tr>\n",
              "    <tr>\n",
              "      <th>Electric Utility</th>\n",
              "      <td>0</td>\n",
              "    </tr>\n",
              "    <tr>\n",
              "      <th>2020 Census Tract</th>\n",
              "      <td>0</td>\n",
              "    </tr>\n",
              "  </tbody>\n",
              "</table>\n",
              "</div><br><label><b>dtype:</b> int64</label>"
            ]
          },
          "metadata": {},
          "execution_count": 93
        }
      ]
    },
    {
      "cell_type": "code",
      "source": [
        "num_duplicates = elec_ds.duplicated().sum()\n",
        "print(f\"Number of duplicate records: {num_duplicates}\")\n"
      ],
      "metadata": {
        "colab": {
          "base_uri": "https://localhost:8080/"
        },
        "id": "HyBBtlsa_cKj",
        "outputId": "dc55fa63-8a00-448b-a3a2-ac7a98a3e463"
      },
      "execution_count": 94,
      "outputs": [
        {
          "output_type": "stream",
          "name": "stdout",
          "text": [
            "Number of duplicate records: 10398\n"
          ]
        }
      ]
    },
    {
      "cell_type": "code",
      "source": [
        "\n",
        "elec_ds.drop_duplicates(subset=['VIN (1-10)', 'County'], inplace=True)\n",
        "\n",
        "\n",
        "num_duplicates = elec_ds.duplicated().sum()\n",
        "print(f\"Number of duplicate records: {num_duplicates}\")"
      ],
      "metadata": {
        "colab": {
          "base_uri": "https://localhost:8080/"
        },
        "id": "-REe_NRB9qXW",
        "outputId": "67e86b7c-8618-4ce3-91d4-216f7439cc03"
      },
      "execution_count": 95,
      "outputs": [
        {
          "output_type": "stream",
          "name": "stdout",
          "text": [
            "Number of duplicate records: 0\n"
          ]
        }
      ]
    },
    {
      "cell_type": "code",
      "source": [
        "elec_ds['Model Year'] = pd.to_datetime(elec_ds['Model Year'], format='%Y', errors='coerce')\n",
        "\n"
      ],
      "metadata": {
        "id": "OGImkRHC_z7T"
      },
      "execution_count": 104,
      "outputs": []
    },
    {
      "cell_type": "code",
      "source": [
        "elec_ds['Postal Code'] = elec_ds['Postal Code'].astype(str)"
      ],
      "metadata": {
        "id": "kmr2blWcAyLq"
      },
      "execution_count": 105,
      "outputs": []
    },
    {
      "cell_type": "code",
      "source": [
        "elec_ds.info()"
      ],
      "metadata": {
        "colab": {
          "base_uri": "https://localhost:8080/"
        },
        "id": "G5XkMFa0AWkI",
        "outputId": "50a063e3-8fe0-4f0a-c318-200446b5bd6c"
      },
      "execution_count": 106,
      "outputs": [
        {
          "output_type": "stream",
          "name": "stdout",
          "text": [
            "<class 'pandas.core.frame.DataFrame'>\n",
            "Index: 39090 entries, 0 to 135037\n",
            "Data columns (total 13 columns):\n",
            " #   Column                                             Non-Null Count  Dtype         \n",
            "---  ------                                             --------------  -----         \n",
            " 0   VIN (1-10)                                         39090 non-null  object        \n",
            " 1   County                                             39090 non-null  object        \n",
            " 2   City                                               39090 non-null  object        \n",
            " 3   State                                              39090 non-null  object        \n",
            " 4   Postal Code                                        39090 non-null  object        \n",
            " 5   Model Year                                         39090 non-null  datetime64[ns]\n",
            " 6   Make                                               39090 non-null  object        \n",
            " 7   Model                                              39090 non-null  object        \n",
            " 8   Electric Vehicle Type                              39090 non-null  object        \n",
            " 9   Clean Alternative Fuel Vehicle (CAFV) Eligibility  39090 non-null  object        \n",
            " 10  Base MSRP                                          39090 non-null  float64       \n",
            " 11  Electric Utility                                   39090 non-null  object        \n",
            " 12  2020 Census Tract                                  39090 non-null  float64       \n",
            "dtypes: datetime64[ns](1), float64(2), object(10)\n",
            "memory usage: 4.2+ MB\n"
          ]
        }
      ]
    },
    {
      "cell_type": "code",
      "source": [
        "# Select numerical columns\n",
        "numerical_cols = elec_ds.select_dtypes(include=['number']).columns\n",
        "\n",
        "# Create histograms for each numerical column\n",
        "for col in numerical_cols:\n",
        "    plt.figure(figsize=(4, 4))\n",
        "    sns.boxplot(elec_ds[col])\n",
        "    plt.title(f'Histogram of {col}')\n",
        "    plt.show()"
      ],
      "metadata": {
        "colab": {
          "base_uri": "https://localhost:8080/",
          "height": 1000
        },
        "id": "9GVBCV-HA-Fd",
        "outputId": "1d4b082b-cdda-467d-a4d7-23d55b4b4b60"
      },
      "execution_count": 99,
      "outputs": [
        {
          "output_type": "display_data",
          "data": {
            "text/plain": [
              "<Figure size 400x400 with 1 Axes>"
            ],
            "image/png": "[encoded data removed]"
          },
          "metadata": {}
        },
        {
          "output_type": "display_data",
          "data": {
            "text/plain": [
              "<Figure size 400x400 with 1 Axes>"
            ],
            "image/png": "[encoded data removed]"
          },
          "metadata": {}
        },
        {
          "output_type": "display_data",
          "data": {
            "text/plain": [
              "<Figure size 400x400 with 1 Axes>"
            ],
            "image/png": "[encoded data removed]"
          },
          "metadata": {}
        }
      ]
    },
    {
      "cell_type": "code",
      "source": [
        "elec_ds['State'].unique()"
      ],
      "metadata": {
        "colab": {
          "base_uri": "https://localhost:8080/"
        },
        "id": "t0ZqKpOFDl1q",
        "outputId": "8261cd07-0961-4d1a-cc22-504343db0b85"
      },
      "execution_count": 100,
      "outputs": [
        {
          "output_type": "execute_result",
          "data": {
            "text/plain": [
              "array(['WA', 'CA', 'AZ', 'IL', 'KS', 'VA', 'NE', 'DC', 'MD', 'TX', 'NV',\n",
              "       'UT', 'GA', 'NC', 'SC', 'MO', 'CO', 'AR', 'FL', 'NJ', 'ID', 'HI',\n",
              "       'MI', 'DE', 'OR', 'LA', 'OH', 'NM', 'WY', 'TN', 'OK', 'KY', 'AL',\n",
              "       'MS', 'PA', 'CT', 'IN', 'NY', 'AK', 'MA', 'MT', 'NH', 'RI', 'MN'],\n",
              "      dtype=object)"
            ]
          },
          "metadata": {},
          "execution_count": 100
        }
      ]
    },
    {
      "cell_type": "code",
      "source": [
        "elec_ds['County'].unique()"
      ],
      "metadata": {
        "colab": {
          "base_uri": "https://localhost:8080/"
        },
        "id": "mnh0CrFkB9Dk",
        "outputId": "5a619e0f-4f9b-4936-e2e1-d44b775ece3d"
      },
      "execution_count": 101,
      "outputs": [
        {
          "output_type": "execute_result",
          "data": {
            "text/plain": [
              "array(['Thurston', 'Island', 'Snohomish', 'King', 'Chelan', 'Kitsap',\n",
              "       'Yakima', 'Marin', 'Whitman', 'Skagit', 'Pend Oreille', 'Pierce',\n",
              "       'Maricopa', 'Douglas', 'Grant', 'Columbia', 'Spokane', 'Clark',\n",
              "       'San Juan', 'Whatcom', 'Clallam', 'Cowlitz', 'Lewis', 'Benton',\n",
              "       'Walla Walla', 'Jefferson', 'Kittitas', 'Okanogan', 'Mason',\n",
              "       'Stevens', 'Garfield', 'Skamania', 'Franklin', 'Grays Harbor',\n",
              "       'Klickitat', 'Adams', 'Kings', 'Pacific', 'Wahkiakum', 'Ferry',\n",
              "       'Asotin', 'Lake', 'Leavenworth', 'San Diego', 'Fairfax',\n",
              "       'Stafford', 'Lincoln', 'Loudoun', 'Sarpy', 'District of Columbia',\n",
              "       'Los Angeles', 'Anne Arundel', 'Galveston', 'Kern',\n",
              "       'Virginia Beach', 'Contra Costa', 'San Bernardino', 'Salt Lake',\n",
              "       \"St. Mary's\", 'Ventura', 'Rockdale', 'Cook', 'Chesapeake', 'Moore',\n",
              "       'St. Clair', 'Beaufort', 'Portsmouth', 'Riverside', 'Ray',\n",
              "       \"Prince George's\", 'Solano', 'Monterey', 'El Paso', 'Pulaski',\n",
              "       'Cumberland', 'Hillsborough', 'Richmond', 'Howard', 'Orange',\n",
              "       'Santa Clara', 'Burlington', 'Kootenai', 'Washington', 'Honolulu',\n",
              "       'Montgomery', 'Charleston', 'Alameda', 'Emmet', 'Sacramento',\n",
              "       'Houston', 'Bexar', 'Kent', 'Las Animas', 'Sonoma', 'Yavapai',\n",
              "       'Hawaii', 'Newport News', 'Plaquemines', 'Hamilton', 'Broward',\n",
              "       'Doña Ana', 'Laramie', 'Geary', 'Sumter', 'Jackson', 'Larimer',\n",
              "       'Oldham', 'Multnomah', 'Platte', 'Goochland', 'Lee', 'Frederick',\n",
              "       'DeKalb', 'Wayne', 'Harrison', 'Denton', 'Alexandria', 'Sarasota',\n",
              "       'Wichita', 'Harnett', 'Vernon', 'Calvert', 'Collin', 'Dorchester',\n",
              "       'Hoke', 'Dallas', 'New London', 'Madison', 'Allen', 'Carroll',\n",
              "       'Saratoga', 'Santa Cruz', 'Randolph', 'Bell', 'Arapahoe',\n",
              "       'Charles', 'Gwinnett', 'Cape May', 'Kauai', 'Norfolk', 'Onslow',\n",
              "       'Polk', 'Fairbanks North Star', 'Middlesex', 'Coryell', 'Berkeley',\n",
              "       'Boulder', 'Yellowstone', 'St. Louis', 'Rockingham', 'Hidalgo',\n",
              "       'Rock Island', 'St. Tammany', 'Sheridan', 'Essex', 'Placer',\n",
              "       'Lane', 'Suffolk', 'Newport', 'Tarrant', 'Santa Barbara', 'Elmore',\n",
              "       'Napa', 'New Haven', 'San Mateo', 'Camden', 'Hennepin',\n",
              "       'Arlington', 'Nassau'], dtype=object)"
            ]
          },
          "metadata": {},
          "execution_count": 101
        }
      ]
    },
    {
      "cell_type": "code",
      "source": [],
      "metadata": {
        "id": "TC_11w8DGap2"
      },
      "execution_count": null,
      "outputs": []
    }
  ]
}