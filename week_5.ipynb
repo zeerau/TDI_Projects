{
  "nbformat": 4,
  "nbformat_minor": 0,
  "metadata": {
    "colab": {
      "provenance": [],
      "authorship_tag": "ABX9TyNX8OGTyriuvN+G8UX2JJRq",
      "include_colab_link": true
    },
    "kernelspec": {
      "name": "python3",
      "display_name": "Python 3"
    },
    "language_info": {
      "name": "python"
    }
  },
  "cells": [
    {
      "cell_type": "markdown",
      "metadata": {
        "id": "view-in-github",
        "colab_type": "text"
      },
      "source": [
        "<a href=\"https://colab.research.google.com/github/zeerau/TDI_Projects/blob/main/Untitled8.ipynb\" target=\"_parent\"><img src=\"https://colab.research.google.com/assets/colab-badge.svg\" alt=\"Open In Colab\"/></a>"
      ]
    },
    {
      "cell_type": "code",
      "execution_count": null,
      "metadata": {
        "id": "cYlOZD4liYeO"
      },
      "outputs": [],
      "source": [
        "class Employee:\n",
        "    def __init__(self, name, age, salary):\n",
        "        self.name = name\n",
        "        self.age = age\n",
        "        self.__salary = salary  # Private attribute\n",
        "\n",
        "    # Getter for salary\n",
        "    def get_salary(self):\n",
        "        return self.__salary\n",
        "\n",
        "    # Setter for salary\n",
        "    def set_salary(self, salary):\n",
        "        self.__salary = salary\n",
        "\n",
        "    # Method to display employee details\n",
        "    def display_details(self):\n",
        "        return f\"Name: {self.name}, Age: {self.age}, Salary: {self.__salary}\""
      ]
    },
    {
      "cell_type": "code",
      "source": [
        "class Manager(Employee):\n",
        "    def __init__(self, name, age, salary, departments):\n",
        "        super().__init__(name, age, salary)\n",
        "        self.departments = departments  # List of departments managed\n",
        "\n",
        "    def display_details(self):\n",
        "        return f\"Name: {self.name}, Age: {self.age}, Salary: {self.get_salary()}, Departments: {', '.join(self.departments)}\"\n",
        "\n",
        "class Intern(Employee):\n",
        "    def __init__(self, name, age, salary, mentor):\n",
        "        super().__init__(name, age, salary)\n",
        "        self.mentor = mentor  # Mentor's name\n",
        "\n",
        "    def display_details(self):\n",
        "        return f\"Name: {self.name}, Age: {self.age}, Salary: {self.get_salary()}, Mentor: {self.mentor}\"\n",
        "\n"
      ],
      "metadata": {
        "id": "IzeC4cu6mwMY"
      },
      "execution_count": null,
      "outputs": []
    },
    {
      "cell_type": "code",
      "source": [
        "import csv\n",
        "\n",
        "def read_csv(file_path, num_rows=20):\n",
        "    data = []\n",
        "    with open(file_path, mode='r') as file:\n",
        "        reader = csv.DictReader(file)\n",
        "        for i, row in enumerate(reader):\n",
        "            if i >= num_rows:\n",
        "                break\n",
        "            data.append(row)\n",
        "    return data\n",
        "read_csv('/content/Employees-Dataset01.csv')"
      ],
      "metadata": {
        "colab": {
          "base_uri": "https://localhost:8080/"
        },
        "id": "xORjIQwunAEZ",
        "outputId": "90a93881-bc5f-4891-fe25-86448952e9a6"
      },
      "execution_count": null,
      "outputs": [
        {
          "output_type": "execute_result",
          "data": {
            "text/plain": [
              "[{'Name': 'John Doe',\n",
              "  'Age': '28',\n",
              "  'Salary': '5000000',\n",
              "  'Department': 'Engineering'},\n",
              " {'Name': 'Jane Smith',\n",
              "  'Age': '32',\n",
              "  'Salary': '5500000',\n",
              "  'Department': 'Marketing'},\n",
              " {'Name': 'Emily Johnson',\n",
              "  'Age': '45',\n",
              "  'Salary': '7000000',\n",
              "  'Department': 'Finance'},\n",
              " {'Name': 'Michael Brown',\n",
              "  'Age': '30',\n",
              "  'Salary': '6000000',\n",
              "  'Department': 'Engineering'},\n",
              " {'Name': 'Linda Davis',\n",
              "  'Age': '27',\n",
              "  'Salary': '4800000',\n",
              "  'Department': 'Sales'},\n",
              " {'Name': 'James Wilson',\n",
              "  'Age': '40',\n",
              "  'Salary': '7200000',\n",
              "  'Department': 'Finance'},\n",
              " {'Name': 'Mary Moore',\n",
              "  'Age': '35',\n",
              "  'Salary': '6200000',\n",
              "  'Department': 'Engineering'},\n",
              " {'Name': 'David Taylor',\n",
              "  'Age': '50',\n",
              "  'Salary': '7500000',\n",
              "  'Department': 'Marketing'},\n",
              " {'Name': 'Laura Anderson',\n",
              "  'Age': '29',\n",
              "  'Salary': '5100000',\n",
              "  'Department': 'Sales'},\n",
              " {'Name': 'Chris Thomas',\n",
              "  'Age': '42',\n",
              "  'Salary': '6800000',\n",
              "  'Department': 'Engineering'},\n",
              " {'Name': 'Patricia Jackson',\n",
              "  'Age': '33',\n",
              "  'Salary': '5900000',\n",
              "  'Department': 'Marketing'},\n",
              " {'Name': 'Robert Harris',\n",
              "  'Age': '37',\n",
              "  'Salary': '6400000',\n",
              "  'Department': 'Finance'},\n",
              " {'Name': 'Jennifer Martin',\n",
              "  'Age': '26',\n",
              "  'Salary': '4700000',\n",
              "  'Department': 'Sales'},\n",
              " {'Name': 'William Lewis',\n",
              "  'Age': '31',\n",
              "  'Salary': '5300000',\n",
              "  'Department': 'Engineering'},\n",
              " {'Name': 'Barbara Walker',\n",
              "  'Age': '34',\n",
              "  'Salary': '6100000',\n",
              "  'Department': 'Marketing'},\n",
              " {'Name': 'Daniel Hall',\n",
              "  'Age': '38',\n",
              "  'Salary': '6500000',\n",
              "  'Department': 'Finance'},\n",
              " {'Name': 'Elizabeth Young',\n",
              "  'Age': '39',\n",
              "  'Salary': '6700000',\n",
              "  'Department': 'Sales'},\n",
              " {'Name': 'Joseph Allen',\n",
              "  'Age': '25',\n",
              "  'Salary': '4500000',\n",
              "  'Department': 'Engineering'},\n",
              " {'Name': 'Sarah King',\n",
              "  'Age': '44',\n",
              "  'Salary': '6900000',\n",
              "  'Department': 'Marketing'},\n",
              " {'Name': 'Charles Scott',\n",
              "  'Age': '30',\n",
              "  'Salary': '6000000',\n",
              "  'Department': 'Sales'}]"
            ]
          },
          "metadata": {},
          "execution_count": 5
        }
      ]
    },
    {
      "cell_type": "code",
      "source": [
        "data.head()"
      ],
      "metadata": {
        "id": "I622nAEHnkFd"
      },
      "execution_count": null,
      "outputs": []
    }
  ]
}