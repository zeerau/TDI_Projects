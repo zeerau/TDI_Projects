{
 "cells": [
  {
   "cell_type": "code",
   "execution_count": 2,
   "metadata": {},
   "outputs": [
    {
     "name": "stdout",
     "output_type": "stream",
     "text": [
      "Python Number Guessing Game\n",
      "Select a number between 1 and 100\n"
     ]
    },
    {
     "name": "stdout",
     "output_type": "stream",
     "text": [
      "Too high! Try again!\n",
      "Too high! Try again!\n",
      "Too high! Try again!\n",
      "Too low! Try again!\n",
      "Too high! Try again!\n",
      "Too high! Try again!\n",
      "Too high! Try again!\n",
      "Too high! Try again!\n",
      "Too high! Try again!\n",
      "Too low! Try again!\n",
      "Too high! Try again!\n",
      "Too high! Try again!\n",
      "Too high! Try again!\n",
      "CORRECT! The answer was 22\n",
      "Number of guesses: 17\n"
     ]
    }
   ],
   "source": [
    "from random import randint\n",
    "\n",
    "\n",
    "lowest_num = 1\n",
    "highest_num = 100\n",
    "answer = randint(lowest_num, highest_num)\n",
    "guesses = 3\n",
    "is_running = True\n",
    "\n",
    "print(\"Python Number Guessing Game\")\n",
    "print(f\"Select a number between {lowest_num} and {highest_num}\")\n",
    "\n",
    "while is_running:\n",
    "\n",
    "    guess = input(\"Enter your guess: \")\n",
    "\n",
    "    if guess.isdigit():\n",
    "        guess = int(guess)\n",
    "        guesses += 1\n",
    "\n",
    "        if guess < lowest_num or guess > highest_num:\n",
    "            print(\"That number is out of range\")\n",
    "            print(f\"Please select a number between {lowest_num} and {highest_num}\")\n",
    "        elif guess < answer:\n",
    "            print(\"Too low! Try again!\")\n",
    "        elif guess > answer:\n",
    "            print(\"Too high! Try again!\")\n",
    "        else:\n",
    "            print(f\"CORRECT! The answer was {answer}\")\n",
    "            print(f\"Number of guesses: {guesses}\")\n",
    "            is_running = False\n",
    "    else:\n",
    "        print(\"Invalid guess\")\n",
    "        print(f\"Please select a number between {lowest_num} and {highest_num}\")\n",
    "       \n",
    "\n"
   ]
  }
 ],
 "metadata": {
  "kernelspec": {
   "display_name": "base",
   "language": "python",
   "name": "python3"
  },
  "language_info": {
   "codemirror_mode": {
    "name": "ipython",
    "version": 3
   },
   "file_extension": ".py",
   "mimetype": "text/x-python",
   "name": "python",
   "nbconvert_exporter": "python",
   "pygments_lexer": "ipython3",
   "version": "3.12.3"
  }
 },
 "nbformat": 4,
 "nbformat_minor": 2
}
