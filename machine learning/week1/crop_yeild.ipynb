{
 "cells": [
  {
   "cell_type": "markdown",
   "metadata": {},
   "source": [
    "### Loading the Dataset"
   ]
  },
  {
   "cell_type": "code",
   "execution_count": 10,
   "metadata": {},
   "outputs": [],
   "source": [
    "import pandas as pd\n",
    "import numpy as np\n",
    "import matplotlib.pyplot as plt\n",
    "from sklearn.linear_model import LinearRegression\n",
    "from sklearn.model_selection import train_test_split\n",
    "from sklearn import metrics\n"
   ]
  },
  {
   "cell_type": "code",
   "execution_count": 3,
   "metadata": {},
   "outputs": [],
   "source": [
    "df = pd.read_csv(r'C:\\Users\\DELL\\Documents\\TDI Folder\\TDI_Projects\\machine learning\\week1\\crop_yield_dataset.csv')"
   ]
  },
  {
   "cell_type": "code",
   "execution_count": 4,
   "metadata": {},
   "outputs": [
    {
     "data": {
      "text/html": [
       "<div>\n",
       "<style scoped>\n",
       "    .dataframe tbody tr th:only-of-type {\n",
       "        vertical-align: middle;\n",
       "    }\n",
       "\n",
       "    .dataframe tbody tr th {\n",
       "        vertical-align: top;\n",
       "    }\n",
       "\n",
       "    .dataframe thead th {\n",
       "        text-align: right;\n",
       "    }\n",
       "</style>\n",
       "<table border=\"1\" class=\"dataframe\">\n",
       "  <thead>\n",
       "    <tr style=\"text-align: right;\">\n",
       "      <th></th>\n",
       "      <th>crop_yield_success</th>\n",
       "      <th>region</th>\n",
       "      <th>temperature_celsius</th>\n",
       "      <th>weather_condition</th>\n",
       "      <th>rainfall_mm</th>\n",
       "      <th>days_to_harvest</th>\n",
       "      <th>crop_type</th>\n",
       "      <th>irrigation_used</th>\n",
       "      <th>soil_type</th>\n",
       "      <th>fertilizer_used</th>\n",
       "      <th>crop_yield</th>\n",
       "    </tr>\n",
       "  </thead>\n",
       "  <tbody>\n",
       "    <tr>\n",
       "      <th>0</th>\n",
       "      <td>1</td>\n",
       "      <td>0</td>\n",
       "      <td>27.676966</td>\n",
       "      <td>0</td>\n",
       "      <td>897.077239</td>\n",
       "      <td>122</td>\n",
       "      <td>0</td>\n",
       "      <td>0</td>\n",
       "      <td>0</td>\n",
       "      <td>0</td>\n",
       "      <td>6.555816</td>\n",
       "    </tr>\n",
       "    <tr>\n",
       "      <th>1</th>\n",
       "      <td>1</td>\n",
       "      <td>1</td>\n",
       "      <td>18.026142</td>\n",
       "      <td>1</td>\n",
       "      <td>992.673282</td>\n",
       "      <td>140</td>\n",
       "      <td>1</td>\n",
       "      <td>0</td>\n",
       "      <td>1</td>\n",
       "      <td>1</td>\n",
       "      <td>8.527341</td>\n",
       "    </tr>\n",
       "    <tr>\n",
       "      <th>2</th>\n",
       "      <td>1</td>\n",
       "      <td>2</td>\n",
       "      <td>29.794042</td>\n",
       "      <td>2</td>\n",
       "      <td>147.998025</td>\n",
       "      <td>106</td>\n",
       "      <td>2</td>\n",
       "      <td>1</td>\n",
       "      <td>2</td>\n",
       "      <td>0</td>\n",
       "      <td>1.127443</td>\n",
       "    </tr>\n",
       "    <tr>\n",
       "      <th>3</th>\n",
       "      <td>1</td>\n",
       "      <td>2</td>\n",
       "      <td>16.644190</td>\n",
       "      <td>1</td>\n",
       "      <td>986.866331</td>\n",
       "      <td>146</td>\n",
       "      <td>3</td>\n",
       "      <td>0</td>\n",
       "      <td>0</td>\n",
       "      <td>0</td>\n",
       "      <td>6.517573</td>\n",
       "    </tr>\n",
       "    <tr>\n",
       "      <th>4</th>\n",
       "      <td>1</td>\n",
       "      <td>1</td>\n",
       "      <td>31.620687</td>\n",
       "      <td>0</td>\n",
       "      <td>730.379174</td>\n",
       "      <td>110</td>\n",
       "      <td>4</td>\n",
       "      <td>0</td>\n",
       "      <td>3</td>\n",
       "      <td>1</td>\n",
       "      <td>7.248251</td>\n",
       "    </tr>\n",
       "  </tbody>\n",
       "</table>\n",
       "</div>"
      ],
      "text/plain": [
       "   crop_yield_success  region  temperature_celsius  weather_condition  \\\n",
       "0                   1       0            27.676966                  0   \n",
       "1                   1       1            18.026142                  1   \n",
       "2                   1       2            29.794042                  2   \n",
       "3                   1       2            16.644190                  1   \n",
       "4                   1       1            31.620687                  0   \n",
       "\n",
       "   rainfall_mm  days_to_harvest  crop_type  irrigation_used  soil_type  \\\n",
       "0   897.077239              122          0                0          0   \n",
       "1   992.673282              140          1                0          1   \n",
       "2   147.998025              106          2                1          2   \n",
       "3   986.866331              146          3                0          0   \n",
       "4   730.379174              110          4                0          3   \n",
       "\n",
       "   fertilizer_used  crop_yield  \n",
       "0                0    6.555816  \n",
       "1                1    8.527341  \n",
       "2                0    1.127443  \n",
       "3                0    6.517573  \n",
       "4                1    7.248251  "
      ]
     },
     "execution_count": 4,
     "metadata": {},
     "output_type": "execute_result"
    }
   ],
   "source": [
    "df.head()"
   ]
  },
  {
   "cell_type": "code",
   "execution_count": 5,
   "metadata": {},
   "outputs": [
    {
     "name": "stdout",
     "output_type": "stream",
     "text": [
      "<class 'pandas.core.frame.DataFrame'>\n",
      "RangeIndex: 1000000 entries, 0 to 999999\n",
      "Data columns (total 11 columns):\n",
      " #   Column               Non-Null Count    Dtype  \n",
      "---  ------               --------------    -----  \n",
      " 0   crop_yield_success   1000000 non-null  int64  \n",
      " 1   region               1000000 non-null  int64  \n",
      " 2   temperature_celsius  1000000 non-null  float64\n",
      " 3   weather_condition    1000000 non-null  int64  \n",
      " 4   rainfall_mm          1000000 non-null  float64\n",
      " 5   days_to_harvest      1000000 non-null  int64  \n",
      " 6   crop_type            1000000 non-null  int64  \n",
      " 7   irrigation_used      1000000 non-null  int64  \n",
      " 8   soil_type            1000000 non-null  int64  \n",
      " 9   fertilizer_used      1000000 non-null  int64  \n",
      " 10  crop_yield           1000000 non-null  float64\n",
      "dtypes: float64(3), int64(8)\n",
      "memory usage: 83.9 MB\n"
     ]
    }
   ],
   "source": [
    "df.info()"
   ]
  },
  {
   "cell_type": "code",
   "execution_count": 6,
   "metadata": {},
   "outputs": [
    {
     "data": {
      "text/html": [
       "<div>\n",
       "<style scoped>\n",
       "    .dataframe tbody tr th:only-of-type {\n",
       "        vertical-align: middle;\n",
       "    }\n",
       "\n",
       "    .dataframe tbody tr th {\n",
       "        vertical-align: top;\n",
       "    }\n",
       "\n",
       "    .dataframe thead th {\n",
       "        text-align: right;\n",
       "    }\n",
       "</style>\n",
       "<table border=\"1\" class=\"dataframe\">\n",
       "  <thead>\n",
       "    <tr style=\"text-align: right;\">\n",
       "      <th></th>\n",
       "      <th>crop_yield_success</th>\n",
       "      <th>region</th>\n",
       "      <th>temperature_celsius</th>\n",
       "      <th>weather_condition</th>\n",
       "      <th>rainfall_mm</th>\n",
       "      <th>days_to_harvest</th>\n",
       "      <th>crop_type</th>\n",
       "      <th>irrigation_used</th>\n",
       "      <th>soil_type</th>\n",
       "      <th>fertilizer_used</th>\n",
       "      <th>crop_yield</th>\n",
       "    </tr>\n",
       "  </thead>\n",
       "  <tbody>\n",
       "    <tr>\n",
       "      <th>count</th>\n",
       "      <td>1000000.000000</td>\n",
       "      <td>1000000.000000</td>\n",
       "      <td>1000000.000000</td>\n",
       "      <td>1000000.000000</td>\n",
       "      <td>1000000.000000</td>\n",
       "      <td>1000000.000000</td>\n",
       "      <td>1000000.000000</td>\n",
       "      <td>1000000.000000</td>\n",
       "      <td>1000000.000000</td>\n",
       "      <td>1000000.00000</td>\n",
       "      <td>1000000.000000</td>\n",
       "    </tr>\n",
       "    <tr>\n",
       "      <th>mean</th>\n",
       "      <td>0.999769</td>\n",
       "      <td>1.499497</td>\n",
       "      <td>27.504965</td>\n",
       "      <td>1.001141</td>\n",
       "      <td>549.981901</td>\n",
       "      <td>104.495025</td>\n",
       "      <td>2.500205</td>\n",
       "      <td>0.500509</td>\n",
       "      <td>2.498985</td>\n",
       "      <td>0.49994</td>\n",
       "      <td>4.649472</td>\n",
       "    </tr>\n",
       "    <tr>\n",
       "      <th>std</th>\n",
       "      <td>0.015197</td>\n",
       "      <td>1.117831</td>\n",
       "      <td>7.220608</td>\n",
       "      <td>0.816357</td>\n",
       "      <td>259.851320</td>\n",
       "      <td>25.953412</td>\n",
       "      <td>1.708036</td>\n",
       "      <td>0.500000</td>\n",
       "      <td>1.708409</td>\n",
       "      <td>0.50000</td>\n",
       "      <td>1.696572</td>\n",
       "    </tr>\n",
       "    <tr>\n",
       "      <th>min</th>\n",
       "      <td>0.000000</td>\n",
       "      <td>0.000000</td>\n",
       "      <td>15.000034</td>\n",
       "      <td>0.000000</td>\n",
       "      <td>100.000896</td>\n",
       "      <td>60.000000</td>\n",
       "      <td>0.000000</td>\n",
       "      <td>0.000000</td>\n",
       "      <td>0.000000</td>\n",
       "      <td>0.00000</td>\n",
       "      <td>-1.147613</td>\n",
       "    </tr>\n",
       "    <tr>\n",
       "      <th>25%</th>\n",
       "      <td>1.000000</td>\n",
       "      <td>0.000000</td>\n",
       "      <td>21.254502</td>\n",
       "      <td>0.000000</td>\n",
       "      <td>324.891090</td>\n",
       "      <td>82.000000</td>\n",
       "      <td>1.000000</td>\n",
       "      <td>0.000000</td>\n",
       "      <td>1.000000</td>\n",
       "      <td>0.00000</td>\n",
       "      <td>3.417637</td>\n",
       "    </tr>\n",
       "    <tr>\n",
       "      <th>50%</th>\n",
       "      <td>1.000000</td>\n",
       "      <td>1.000000</td>\n",
       "      <td>27.507365</td>\n",
       "      <td>1.000000</td>\n",
       "      <td>550.124061</td>\n",
       "      <td>104.000000</td>\n",
       "      <td>2.000000</td>\n",
       "      <td>1.000000</td>\n",
       "      <td>2.000000</td>\n",
       "      <td>0.00000</td>\n",
       "      <td>4.651808</td>\n",
       "    </tr>\n",
       "    <tr>\n",
       "      <th>75%</th>\n",
       "      <td>1.000000</td>\n",
       "      <td>2.000000</td>\n",
       "      <td>33.753267</td>\n",
       "      <td>2.000000</td>\n",
       "      <td>774.738520</td>\n",
       "      <td>127.000000</td>\n",
       "      <td>4.000000</td>\n",
       "      <td>1.000000</td>\n",
       "      <td>4.000000</td>\n",
       "      <td>1.00000</td>\n",
       "      <td>5.879200</td>\n",
       "    </tr>\n",
       "    <tr>\n",
       "      <th>max</th>\n",
       "      <td>1.000000</td>\n",
       "      <td>3.000000</td>\n",
       "      <td>39.999997</td>\n",
       "      <td>2.000000</td>\n",
       "      <td>999.998098</td>\n",
       "      <td>149.000000</td>\n",
       "      <td>5.000000</td>\n",
       "      <td>1.000000</td>\n",
       "      <td>5.000000</td>\n",
       "      <td>1.00000</td>\n",
       "      <td>9.963372</td>\n",
       "    </tr>\n",
       "  </tbody>\n",
       "</table>\n",
       "</div>"
      ],
      "text/plain": [
       "       crop_yield_success          region  temperature_celsius  \\\n",
       "count      1000000.000000  1000000.000000       1000000.000000   \n",
       "mean             0.999769        1.499497            27.504965   \n",
       "std              0.015197        1.117831             7.220608   \n",
       "min              0.000000        0.000000            15.000034   \n",
       "25%              1.000000        0.000000            21.254502   \n",
       "50%              1.000000        1.000000            27.507365   \n",
       "75%              1.000000        2.000000            33.753267   \n",
       "max              1.000000        3.000000            39.999997   \n",
       "\n",
       "       weather_condition     rainfall_mm  days_to_harvest       crop_type  \\\n",
       "count     1000000.000000  1000000.000000   1000000.000000  1000000.000000   \n",
       "mean            1.001141      549.981901       104.495025        2.500205   \n",
       "std             0.816357      259.851320        25.953412        1.708036   \n",
       "min             0.000000      100.000896        60.000000        0.000000   \n",
       "25%             0.000000      324.891090        82.000000        1.000000   \n",
       "50%             1.000000      550.124061       104.000000        2.000000   \n",
       "75%             2.000000      774.738520       127.000000        4.000000   \n",
       "max             2.000000      999.998098       149.000000        5.000000   \n",
       "\n",
       "       irrigation_used       soil_type  fertilizer_used      crop_yield  \n",
       "count   1000000.000000  1000000.000000    1000000.00000  1000000.000000  \n",
       "mean          0.500509        2.498985          0.49994        4.649472  \n",
       "std           0.500000        1.708409          0.50000        1.696572  \n",
       "min           0.000000        0.000000          0.00000       -1.147613  \n",
       "25%           0.000000        1.000000          0.00000        3.417637  \n",
       "50%           1.000000        2.000000          0.00000        4.651808  \n",
       "75%           1.000000        4.000000          1.00000        5.879200  \n",
       "max           1.000000        5.000000          1.00000        9.963372  "
      ]
     },
     "execution_count": 6,
     "metadata": {},
     "output_type": "execute_result"
    }
   ],
   "source": [
    "df.describe()"
   ]
  },
  {
   "cell_type": "code",
   "execution_count": 9,
   "metadata": {},
   "outputs": [
    {
     "name": "stdout",
     "output_type": "stream",
     "text": [
      "(1000000, 10)\n",
      "(1000000,)\n"
     ]
    }
   ],
   "source": [
    "x = df.drop('crop_yield',axis =1).values\n",
    "y = df['crop_yield'].values\n",
    "\n",
    "x_train, x_test, y_train, y_test = train_test_split(x, y, test_size=0.3, random_state=0)\n",
    "\n",
    "print(x.shape)\n",
    "\n",
    "print(y.shape)"
   ]
  },
  {
   "cell_type": "code",
   "execution_count": 12,
   "metadata": {},
   "outputs": [
    {
     "name": "stdout",
     "output_type": "stream",
     "text": [
      "Coefficients:  [ 1.32407588e+00  5.50317395e-04  1.99483701e-02  7.62420568e-04\n",
      "  4.99417420e-03  3.88670864e-05 -8.67646577e-04 -1.19937850e+00\n",
      " -1.76153843e-04  1.50075962e+00]\n",
      "Intercept:  -0.12238778615622437\n"
     ]
    },
    {
     "data": {
      "text/plain": [
       "array([3.04395972, 4.79184771, 6.91926475, ..., 5.52583901, 4.6254497 ,\n",
       "       3.79882493])"
      ]
     },
     "execution_count": 12,
     "metadata": {},
     "output_type": "execute_result"
    }
   ],
   "source": [
    "model = LinearRegression()\n",
    "model.fit(x_train,y_train)\n",
    "\n",
    "print('Coefficients: ', model.coef_)\n",
    "print('Intercept: ', model.intercept_)\n",
    "\n",
    "y_pred = model.predict(x_test)\n",
    "y_pred"
   ]
  },
  {
   "cell_type": "code",
   "execution_count": 15,
   "metadata": {},
   "outputs": [
    {
     "data": {
      "text/plain": [
       "0.9128649720172094"
      ]
     },
     "execution_count": 15,
     "metadata": {},
     "output_type": "execute_result"
    }
   ],
   "source": [
    "model.score(x_test, y_test)"
   ]
  },
  {
   "cell_type": "code",
   "execution_count": 17,
   "metadata": {},
   "outputs": [
    {
     "name": "stdout",
     "output_type": "stream",
     "text": [
      "0.25038668698538663\n",
      "R-squared:  0.9128649720172094\n"
     ]
    },
    {
     "data": {
      "image/png": "[encoded data removed]",
      "text/plain": [
       "<Figure size 640x480 with 1 Axes>"
      ]
     },
     "metadata": {},
     "output_type": "display_data"
    }
   ],
   "source": [
    "r_srq=metrics.r2_score(y_test, y_pred)\n",
    "mse=metrics.mean_squared_error(y_test, y_pred)\n",
    "print(mse)\n",
    "print('R-squared: ', r_srq)\n",
    "\n",
    "plt.scatter(y_test, y_pred) \n",
    "plt.xlabel('Actual Yield')  \n",
    "plt.ylabel('Predicted Yield')\n",
    "plt.show()"
   ]
  }
 ],
 "metadata": {
  "kernelspec": {
   "display_name": "datascience",
   "language": "python",
   "name": "python3"
  },
  "language_info": {
   "codemirror_mode": {
    "name": "ipython",
    "version": 3
   },
   "file_extension": ".py",
   "mimetype": "text/x-python",
   "name": "python",
   "nbconvert_exporter": "python",
   "pygments_lexer": "ipython3",
   "version": "3.11.10"
  }
 },
 "nbformat": 4,
 "nbformat_minor": 2
}
